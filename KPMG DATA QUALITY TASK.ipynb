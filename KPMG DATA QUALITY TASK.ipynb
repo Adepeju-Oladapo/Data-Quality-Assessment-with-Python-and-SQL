{
 "cells": [
  {
   "cell_type": "markdown",
   "id": "ade5352e",
   "metadata": {},
   "source": [
    "## This notebook contains the code implemented in the first task of my virtual internship with KPMG through Forage.\n",
    "\n",
    "For this task I was instructed to take a look at the four datasets provided by Sprocket Central Pty Ltd and identify all data quality issues."
   ]
  },
  {
   "cell_type": "code",
   "execution_count": 1,
   "id": "57384877",
   "metadata": {},
   "outputs": [],
   "source": [
    "#importing relevant libaries\n",
    "import numpy as np\n",
    "import pandas as pd\n",
    "import datetime\n",
    "import sqlite3 as sql\n",
    "from pandas import ExcelWriter"
   ]
  },
  {
   "cell_type": "code",
   "execution_count": 2,
   "id": "658ca525",
   "metadata": {},
   "outputs": [],
   "source": [
    "#reading in the needed sheets from the excel workbook\n",
    "KPMG_TSC = pd.read_excel('c:KPMG data.xlsx', sheet_name = 'Transactions')\n",
    "KPMG_NCL = pd.read_excel('c:KPMG data.xlsx', sheet_name = 'NewCustomerList')\n",
    "KPMG_CD = pd.read_excel('c:KPMG data.xlsx', sheet_name = 'CustomerDemographic')\n",
    "KPMG_CA = pd.read_excel('c:KPMG data.xlsx', sheet_name = 'CustomerAddress')"
   ]
  },
  {
   "cell_type": "code",
   "execution_count": 3,
   "id": "f40c4797",
   "metadata": {},
   "outputs": [],
   "source": [
    "#changing the maximum number of rows and columns that can the viewed\n",
    "pd.options.display.max_rows = 100\n",
    "pd.options.display.max_columns = 200"
   ]
  },
  {
   "cell_type": "markdown",
   "id": "e3ee3e9c",
   "metadata": {},
   "source": [
    "# Checking the quality of the Transactions dataset"
   ]
  },
  {
   "cell_type": "code",
   "execution_count": 4,
   "id": "e90ee690",
   "metadata": {},
   "outputs": [
    {
     "data": {
      "text/html": [
       "<div>\n",
       "<style scoped>\n",
       "    .dataframe tbody tr th:only-of-type {\n",
       "        vertical-align: middle;\n",
       "    }\n",
       "\n",
       "    .dataframe tbody tr th {\n",
       "        vertical-align: top;\n",
       "    }\n",
       "\n",
       "    .dataframe thead th {\n",
       "        text-align: right;\n",
       "    }\n",
       "</style>\n",
       "<table border=\"1\" class=\"dataframe\">\n",
       "  <thead>\n",
       "    <tr style=\"text-align: right;\">\n",
       "      <th></th>\n",
       "      <th>Note: The data and information in this document is reflective of a hypothetical situation and client. This document is to be used for KPMG Virtual Internship purposes only.</th>\n",
       "      <th>Unnamed: 1</th>\n",
       "      <th>Unnamed: 2</th>\n",
       "      <th>Unnamed: 3</th>\n",
       "      <th>Unnamed: 4</th>\n",
       "      <th>Unnamed: 5</th>\n",
       "      <th>Unnamed: 6</th>\n",
       "      <th>Unnamed: 7</th>\n",
       "      <th>Unnamed: 8</th>\n",
       "      <th>Unnamed: 9</th>\n",
       "      <th>Unnamed: 10</th>\n",
       "      <th>Unnamed: 11</th>\n",
       "      <th>Unnamed: 12</th>\n",
       "    </tr>\n",
       "  </thead>\n",
       "  <tbody>\n",
       "    <tr>\n",
       "      <th>0</th>\n",
       "      <td>transaction_id</td>\n",
       "      <td>product_id</td>\n",
       "      <td>customer_id</td>\n",
       "      <td>transaction_date</td>\n",
       "      <td>online_order</td>\n",
       "      <td>order_status</td>\n",
       "      <td>brand</td>\n",
       "      <td>product_line</td>\n",
       "      <td>product_class</td>\n",
       "      <td>product_size</td>\n",
       "      <td>list_price</td>\n",
       "      <td>standard_cost</td>\n",
       "      <td>product_first_sold_date</td>\n",
       "    </tr>\n",
       "    <tr>\n",
       "      <th>1</th>\n",
       "      <td>1</td>\n",
       "      <td>2</td>\n",
       "      <td>2950</td>\n",
       "      <td>2017-02-25 00:00:00</td>\n",
       "      <td>False</td>\n",
       "      <td>Approved</td>\n",
       "      <td>Solex</td>\n",
       "      <td>Standard</td>\n",
       "      <td>medium</td>\n",
       "      <td>medium</td>\n",
       "      <td>71.49</td>\n",
       "      <td>53.62</td>\n",
       "      <td>41245</td>\n",
       "    </tr>\n",
       "    <tr>\n",
       "      <th>2</th>\n",
       "      <td>2</td>\n",
       "      <td>3</td>\n",
       "      <td>3120</td>\n",
       "      <td>2017-05-21 00:00:00</td>\n",
       "      <td>True</td>\n",
       "      <td>Approved</td>\n",
       "      <td>Trek Bicycles</td>\n",
       "      <td>Standard</td>\n",
       "      <td>medium</td>\n",
       "      <td>large</td>\n",
       "      <td>2091.47</td>\n",
       "      <td>388.92</td>\n",
       "      <td>41701</td>\n",
       "    </tr>\n",
       "    <tr>\n",
       "      <th>3</th>\n",
       "      <td>3</td>\n",
       "      <td>37</td>\n",
       "      <td>402</td>\n",
       "      <td>2017-10-16 00:00:00</td>\n",
       "      <td>False</td>\n",
       "      <td>Approved</td>\n",
       "      <td>OHM Cycles</td>\n",
       "      <td>Standard</td>\n",
       "      <td>low</td>\n",
       "      <td>medium</td>\n",
       "      <td>1793.43</td>\n",
       "      <td>248.82</td>\n",
       "      <td>36361</td>\n",
       "    </tr>\n",
       "    <tr>\n",
       "      <th>4</th>\n",
       "      <td>4</td>\n",
       "      <td>88</td>\n",
       "      <td>3135</td>\n",
       "      <td>2017-08-31 00:00:00</td>\n",
       "      <td>False</td>\n",
       "      <td>Approved</td>\n",
       "      <td>Norco Bicycles</td>\n",
       "      <td>Standard</td>\n",
       "      <td>medium</td>\n",
       "      <td>medium</td>\n",
       "      <td>1198.46</td>\n",
       "      <td>381.1</td>\n",
       "      <td>36145</td>\n",
       "    </tr>\n",
       "  </tbody>\n",
       "</table>\n",
       "</div>"
      ],
      "text/plain": [
       "  Note: The data and information in this document is reflective of a hypothetical situation and client. This document is to be used for KPMG Virtual Internship purposes only.   \\\n",
       "0                                     transaction_id                                                                                                                              \n",
       "1                                                  1                                                                                                                              \n",
       "2                                                  2                                                                                                                              \n",
       "3                                                  3                                                                                                                              \n",
       "4                                                  4                                                                                                                              \n",
       "\n",
       "   Unnamed: 1   Unnamed: 2           Unnamed: 3    Unnamed: 4    Unnamed: 5  \\\n",
       "0  product_id  customer_id     transaction_date  online_order  order_status   \n",
       "1           2         2950  2017-02-25 00:00:00         False      Approved   \n",
       "2           3         3120  2017-05-21 00:00:00          True      Approved   \n",
       "3          37          402  2017-10-16 00:00:00         False      Approved   \n",
       "4          88         3135  2017-08-31 00:00:00         False      Approved   \n",
       "\n",
       "       Unnamed: 6    Unnamed: 7     Unnamed: 8    Unnamed: 9 Unnamed: 10  \\\n",
       "0           brand  product_line  product_class  product_size  list_price   \n",
       "1           Solex      Standard         medium        medium       71.49   \n",
       "2   Trek Bicycles      Standard         medium         large     2091.47   \n",
       "3      OHM Cycles      Standard            low        medium     1793.43   \n",
       "4  Norco Bicycles      Standard         medium        medium     1198.46   \n",
       "\n",
       "     Unnamed: 11              Unnamed: 12  \n",
       "0  standard_cost  product_first_sold_date  \n",
       "1          53.62                    41245  \n",
       "2         388.92                    41701  \n",
       "3         248.82                    36361  \n",
       "4          381.1                    36145  "
      ]
     },
     "execution_count": 4,
     "metadata": {},
     "output_type": "execute_result"
    }
   ],
   "source": [
    "#viewing the transaction dataset\n",
    "KPMG_TSC.head()"
   ]
  },
  {
   "cell_type": "code",
   "execution_count": 5,
   "id": "c8e01883",
   "metadata": {},
   "outputs": [],
   "source": [
    "#cleaning all datasets to replace the column head with the first row\n",
    "datasets = [KPMG_TSC, KPMG_NCL, KPMG_CD, KPMG_CA]\n",
    "for data in datasets:\n",
    "    data.columns = data.iloc[0]\n",
    "    data.drop(0, axis = 'index', inplace = True)"
   ]
  },
  {
   "cell_type": "code",
   "execution_count": 6,
   "id": "b582fabe",
   "metadata": {},
   "outputs": [
    {
     "name": "stdout",
     "output_type": "stream",
     "text": [
      "<class 'pandas.core.frame.DataFrame'>\n",
      "RangeIndex: 20000 entries, 1 to 20000\n",
      "Data columns (total 13 columns):\n",
      " #   Column                   Non-Null Count  Dtype \n",
      "---  ------                   --------------  ----- \n",
      " 0   transaction_id           20000 non-null  object\n",
      " 1   product_id               20000 non-null  object\n",
      " 2   customer_id              20000 non-null  object\n",
      " 3   transaction_date         20000 non-null  object\n",
      " 4   online_order             19640 non-null  object\n",
      " 5   order_status             20000 non-null  object\n",
      " 6   brand                    19803 non-null  object\n",
      " 7   product_line             19803 non-null  object\n",
      " 8   product_class            19803 non-null  object\n",
      " 9   product_size             19803 non-null  object\n",
      " 10  list_price               20000 non-null  object\n",
      " 11  standard_cost            19803 non-null  object\n",
      " 12  product_first_sold_date  19803 non-null  object\n",
      "dtypes: object(13)\n",
      "memory usage: 1015.7+ KB\n"
     ]
    }
   ],
   "source": [
    "#checking the details of the transaction dataset\n",
    "KPMG_TSC.info()"
   ]
  },
  {
   "cell_type": "markdown",
   "id": "3a3d5f95",
   "metadata": {},
   "source": [
    "The following columns all have missing values: \n",
    "1. online_order\n",
    "2. brand\n",
    "3. product_line\n",
    "4. product_class\n",
    "5. product_size \n",
    "6. standard_cost\n",
    "7. product_first_sold_date "
   ]
  },
  {
   "cell_type": "code",
   "execution_count": 7,
   "id": "9c109c51",
   "metadata": {},
   "outputs": [
    {
     "data": {
      "text/plain": [
       "0\n",
       "transaction_id               0\n",
       "product_id                   0\n",
       "customer_id                  0\n",
       "transaction_date             0\n",
       "online_order               360\n",
       "order_status                 0\n",
       "brand                      197\n",
       "product_line               197\n",
       "product_class              197\n",
       "product_size               197\n",
       "list_price                   0\n",
       "standard_cost              197\n",
       "product_first_sold_date    197\n",
       "dtype: int64"
      ]
     },
     "execution_count": 7,
     "metadata": {},
     "output_type": "execute_result"
    }
   ],
   "source": [
    "#checking the number of missing values each column has\n",
    "KPMG_TSC.isnull().sum()"
   ]
  },
  {
   "cell_type": "code",
   "execution_count": 8,
   "id": "8b445cbe",
   "metadata": {},
   "outputs": [
    {
     "data": {
      "text/html": [
       "<div>\n",
       "<style scoped>\n",
       "    .dataframe tbody tr th:only-of-type {\n",
       "        vertical-align: middle;\n",
       "    }\n",
       "\n",
       "    .dataframe tbody tr th {\n",
       "        vertical-align: top;\n",
       "    }\n",
       "\n",
       "    .dataframe thead th {\n",
       "        text-align: right;\n",
       "    }\n",
       "</style>\n",
       "<table border=\"1\" class=\"dataframe\">\n",
       "  <thead>\n",
       "    <tr style=\"text-align: right;\">\n",
       "      <th></th>\n",
       "      <th>transaction_id</th>\n",
       "      <th>product_id</th>\n",
       "      <th>customer_id</th>\n",
       "      <th>transaction_date</th>\n",
       "      <th>online_order</th>\n",
       "      <th>order_status</th>\n",
       "      <th>brand</th>\n",
       "      <th>product_line</th>\n",
       "      <th>product_class</th>\n",
       "      <th>product_size</th>\n",
       "      <th>list_price</th>\n",
       "      <th>standard_cost</th>\n",
       "      <th>product_first_sold_date</th>\n",
       "    </tr>\n",
       "  </thead>\n",
       "  <tbody>\n",
       "    <tr>\n",
       "      <th>137</th>\n",
       "      <td>137</td>\n",
       "      <td>0</td>\n",
       "      <td>431</td>\n",
       "      <td>2017-09-23 00:00:00</td>\n",
       "      <td>False</td>\n",
       "      <td>Approved</td>\n",
       "      <td>NaN</td>\n",
       "      <td>NaN</td>\n",
       "      <td>NaN</td>\n",
       "      <td>NaN</td>\n",
       "      <td>1942.61</td>\n",
       "      <td>NaN</td>\n",
       "      <td>NaN</td>\n",
       "    </tr>\n",
       "    <tr>\n",
       "      <th>160</th>\n",
       "      <td>160</td>\n",
       "      <td>0</td>\n",
       "      <td>3300</td>\n",
       "      <td>2017-08-27 00:00:00</td>\n",
       "      <td>False</td>\n",
       "      <td>Approved</td>\n",
       "      <td>NaN</td>\n",
       "      <td>NaN</td>\n",
       "      <td>NaN</td>\n",
       "      <td>NaN</td>\n",
       "      <td>1656.86</td>\n",
       "      <td>NaN</td>\n",
       "      <td>NaN</td>\n",
       "    </tr>\n",
       "    <tr>\n",
       "      <th>367</th>\n",
       "      <td>367</td>\n",
       "      <td>0</td>\n",
       "      <td>1614</td>\n",
       "      <td>2017-03-10 00:00:00</td>\n",
       "      <td>False</td>\n",
       "      <td>Approved</td>\n",
       "      <td>NaN</td>\n",
       "      <td>NaN</td>\n",
       "      <td>NaN</td>\n",
       "      <td>NaN</td>\n",
       "      <td>850.89</td>\n",
       "      <td>NaN</td>\n",
       "      <td>NaN</td>\n",
       "    </tr>\n",
       "    <tr>\n",
       "      <th>407</th>\n",
       "      <td>407</td>\n",
       "      <td>0</td>\n",
       "      <td>2559</td>\n",
       "      <td>2017-06-14 00:00:00</td>\n",
       "      <td>True</td>\n",
       "      <td>Approved</td>\n",
       "      <td>NaN</td>\n",
       "      <td>NaN</td>\n",
       "      <td>NaN</td>\n",
       "      <td>NaN</td>\n",
       "      <td>710.59</td>\n",
       "      <td>NaN</td>\n",
       "      <td>NaN</td>\n",
       "    </tr>\n",
       "    <tr>\n",
       "      <th>677</th>\n",
       "      <td>677</td>\n",
       "      <td>0</td>\n",
       "      <td>2609</td>\n",
       "      <td>2017-07-02 00:00:00</td>\n",
       "      <td>False</td>\n",
       "      <td>Approved</td>\n",
       "      <td>NaN</td>\n",
       "      <td>NaN</td>\n",
       "      <td>NaN</td>\n",
       "      <td>NaN</td>\n",
       "      <td>1972.01</td>\n",
       "      <td>NaN</td>\n",
       "      <td>NaN</td>\n",
       "    </tr>\n",
       "  </tbody>\n",
       "</table>\n",
       "</div>"
      ],
      "text/plain": [
       "0   transaction_id product_id customer_id     transaction_date online_order  \\\n",
       "137            137          0         431  2017-09-23 00:00:00        False   \n",
       "160            160          0        3300  2017-08-27 00:00:00        False   \n",
       "367            367          0        1614  2017-03-10 00:00:00        False   \n",
       "407            407          0        2559  2017-06-14 00:00:00         True   \n",
       "677            677          0        2609  2017-07-02 00:00:00        False   \n",
       "\n",
       "0   order_status brand product_line product_class product_size list_price  \\\n",
       "137     Approved   NaN          NaN           NaN          NaN    1942.61   \n",
       "160     Approved   NaN          NaN           NaN          NaN    1656.86   \n",
       "367     Approved   NaN          NaN           NaN          NaN     850.89   \n",
       "407     Approved   NaN          NaN           NaN          NaN     710.59   \n",
       "677     Approved   NaN          NaN           NaN          NaN    1972.01   \n",
       "\n",
       "0   standard_cost product_first_sold_date  \n",
       "137           NaN                     NaN  \n",
       "160           NaN                     NaN  \n",
       "367           NaN                     NaN  \n",
       "407           NaN                     NaN  \n",
       "677           NaN                     NaN  "
      ]
     },
     "execution_count": 8,
     "metadata": {},
     "output_type": "execute_result"
    }
   ],
   "source": [
    "#checking for correlation in the position of missing values across the last 6 columns with missing values\n",
    "KPMG_TSC[KPMG_TSC['brand'].isnull()].head()"
   ]
  },
  {
   "cell_type": "markdown",
   "id": "c11e242d",
   "metadata": {},
   "source": [
    "The columns :brand, product_line, product_class, product_size, standard_cost, product_first_sold_date have all of their missing values in the same rows while 358 of the remaining missing values are in the 'online_order' column. Therefore the total number of null values in the transaction dataset is the sum of the different groups of missing values.\n",
    "\n",
    "Although other columns with missing values may be filled with the mode values, the last column 'product_first_sold_date' is unique to each product, thus all missing vales in the dataset are dropped."
   ]
  },
  {
   "cell_type": "code",
   "execution_count": 9,
   "id": "7988c025",
   "metadata": {},
   "outputs": [
    {
     "data": {
      "text/plain": [
       "2.775"
      ]
     },
     "execution_count": 9,
     "metadata": {},
     "output_type": "execute_result"
    }
   ],
   "source": [
    "#calculating the total number of missing values\n",
    "percentage_onlineorder = ((((KPMG_TSC['online_order'].isnull().sum()) - 2) * 100) / (len((KPMG_TSC['online_order']))))\n",
    "percentage_brand = ((KPMG_TSC['brand'].isnull().sum() * 100) / (len((KPMG_TSC['brand']))))\n",
    "percentage_nan = (percentage_onlineorder + percentage_brand)\n",
    "percentage_nan"
   ]
  },
  {
   "cell_type": "code",
   "execution_count": 10,
   "id": "e65dfb00",
   "metadata": {},
   "outputs": [
    {
     "name": "stdout",
     "output_type": "stream",
     "text": [
      "<class 'pandas.core.frame.DataFrame'>\n",
      "Int64Index: 19445 entries, 1 to 20000\n",
      "Data columns (total 13 columns):\n",
      " #   Column                   Non-Null Count  Dtype \n",
      "---  ------                   --------------  ----- \n",
      " 0   transaction_id           19445 non-null  object\n",
      " 1   product_id               19445 non-null  object\n",
      " 2   customer_id              19445 non-null  object\n",
      " 3   transaction_date         19445 non-null  object\n",
      " 4   online_order             19445 non-null  object\n",
      " 5   order_status             19445 non-null  object\n",
      " 6   brand                    19445 non-null  object\n",
      " 7   product_line             19445 non-null  object\n",
      " 8   product_class            19445 non-null  object\n",
      " 9   product_size             19445 non-null  object\n",
      " 10  list_price               19445 non-null  object\n",
      " 11  standard_cost            19445 non-null  object\n",
      " 12  product_first_sold_date  19445 non-null  object\n",
      "dtypes: object(13)\n",
      "memory usage: 1.1+ MB\n"
     ]
    }
   ],
   "source": [
    "#dropping the null values in the datatset\n",
    "KPMG_TSC.dropna(inplace = True)\n",
    "KPMG_TSC.info()"
   ]
  },
  {
   "cell_type": "code",
   "execution_count": 11,
   "id": "c37affd9",
   "metadata": {},
   "outputs": [
    {
     "name": "stdout",
     "output_type": "stream",
     "text": [
      "<class 'pandas.core.frame.DataFrame'>\n",
      "Int64Index: 19445 entries, 1 to 20000\n",
      "Data columns (total 13 columns):\n",
      " #   Column                   Non-Null Count  Dtype         \n",
      "---  ------                   --------------  -----         \n",
      " 0   transaction_id           19445 non-null  object        \n",
      " 1   product_id               19445 non-null  object        \n",
      " 2   customer_id              19445 non-null  object        \n",
      " 3   transaction_date         19445 non-null  datetime64[ns]\n",
      " 4   online_order             19445 non-null  object        \n",
      " 5   order_status             19445 non-null  object        \n",
      " 6   brand                    19445 non-null  object        \n",
      " 7   product_line             19445 non-null  object        \n",
      " 8   product_class            19445 non-null  object        \n",
      " 9   product_size             19445 non-null  object        \n",
      " 10  list_price               19445 non-null  float64       \n",
      " 11  standard_cost            19445 non-null  float64       \n",
      " 12  product_first_sold_date  19445 non-null  datetime64[ns]\n",
      "dtypes: datetime64[ns](2), float64(2), object(9)\n",
      "memory usage: 1.4+ MB\n"
     ]
    }
   ],
   "source": [
    "#recasting some of the columns in appropriate data types\n",
    "KPMG_TSC['transaction_date'] = pd.to_datetime(KPMG_TSC['transaction_date'])\n",
    "KPMG_TSC['list_price'] = KPMG_TSC['list_price'].astype('float')\n",
    "KPMG_TSC['standard_cost'] = KPMG_TSC['standard_cost'].astype('float')\n",
    "KPMG_TSC['product_first_sold_date'] = KPMG_TSC['product_first_sold_date'].apply(lambda x: (datetime.datetime(1899, 12, 30) + datetime.timedelta(days= int(x))))\n",
    "KPMG_TSC.info()"
   ]
  },
  {
   "cell_type": "code",
   "execution_count": 12,
   "id": "3bac0da5",
   "metadata": {},
   "outputs": [
    {
     "data": {
      "text/html": [
       "<div>\n",
       "<style scoped>\n",
       "    .dataframe tbody tr th:only-of-type {\n",
       "        vertical-align: middle;\n",
       "    }\n",
       "\n",
       "    .dataframe tbody tr th {\n",
       "        vertical-align: top;\n",
       "    }\n",
       "\n",
       "    .dataframe thead th {\n",
       "        text-align: right;\n",
       "    }\n",
       "</style>\n",
       "<table border=\"1\" class=\"dataframe\">\n",
       "  <thead>\n",
       "    <tr style=\"text-align: right;\">\n",
       "      <th></th>\n",
       "      <th>transaction_id</th>\n",
       "      <th>product_id</th>\n",
       "      <th>customer_id</th>\n",
       "      <th>transaction_date</th>\n",
       "      <th>online_order</th>\n",
       "      <th>order_status</th>\n",
       "      <th>brand</th>\n",
       "      <th>product_line</th>\n",
       "      <th>product_class</th>\n",
       "      <th>product_size</th>\n",
       "      <th>list_price</th>\n",
       "      <th>standard_cost</th>\n",
       "      <th>product_first_sold_date</th>\n",
       "    </tr>\n",
       "  </thead>\n",
       "  <tbody>\n",
       "    <tr>\n",
       "      <th>1</th>\n",
       "      <td>1</td>\n",
       "      <td>2</td>\n",
       "      <td>2950</td>\n",
       "      <td>2017-02-25</td>\n",
       "      <td>False</td>\n",
       "      <td>Approved</td>\n",
       "      <td>Solex</td>\n",
       "      <td>Standard</td>\n",
       "      <td>medium</td>\n",
       "      <td>medium</td>\n",
       "      <td>71.49</td>\n",
       "      <td>53.62</td>\n",
       "      <td>2012-12-02</td>\n",
       "    </tr>\n",
       "    <tr>\n",
       "      <th>2</th>\n",
       "      <td>2</td>\n",
       "      <td>3</td>\n",
       "      <td>3120</td>\n",
       "      <td>2017-05-21</td>\n",
       "      <td>True</td>\n",
       "      <td>Approved</td>\n",
       "      <td>Trek Bicycles</td>\n",
       "      <td>Standard</td>\n",
       "      <td>medium</td>\n",
       "      <td>large</td>\n",
       "      <td>2091.47</td>\n",
       "      <td>388.92</td>\n",
       "      <td>2014-03-03</td>\n",
       "    </tr>\n",
       "    <tr>\n",
       "      <th>3</th>\n",
       "      <td>3</td>\n",
       "      <td>37</td>\n",
       "      <td>402</td>\n",
       "      <td>2017-10-16</td>\n",
       "      <td>False</td>\n",
       "      <td>Approved</td>\n",
       "      <td>OHM Cycles</td>\n",
       "      <td>Standard</td>\n",
       "      <td>low</td>\n",
       "      <td>medium</td>\n",
       "      <td>1793.43</td>\n",
       "      <td>248.82</td>\n",
       "      <td>1999-07-20</td>\n",
       "    </tr>\n",
       "    <tr>\n",
       "      <th>4</th>\n",
       "      <td>4</td>\n",
       "      <td>88</td>\n",
       "      <td>3135</td>\n",
       "      <td>2017-08-31</td>\n",
       "      <td>False</td>\n",
       "      <td>Approved</td>\n",
       "      <td>Norco Bicycles</td>\n",
       "      <td>Standard</td>\n",
       "      <td>medium</td>\n",
       "      <td>medium</td>\n",
       "      <td>1198.46</td>\n",
       "      <td>381.10</td>\n",
       "      <td>1998-12-16</td>\n",
       "    </tr>\n",
       "    <tr>\n",
       "      <th>5</th>\n",
       "      <td>5</td>\n",
       "      <td>78</td>\n",
       "      <td>787</td>\n",
       "      <td>2017-10-01</td>\n",
       "      <td>True</td>\n",
       "      <td>Approved</td>\n",
       "      <td>Giant Bicycles</td>\n",
       "      <td>Standard</td>\n",
       "      <td>medium</td>\n",
       "      <td>large</td>\n",
       "      <td>1765.30</td>\n",
       "      <td>709.48</td>\n",
       "      <td>2015-08-10</td>\n",
       "    </tr>\n",
       "  </tbody>\n",
       "</table>\n",
       "</div>"
      ],
      "text/plain": [
       "0 transaction_id product_id customer_id transaction_date online_order  \\\n",
       "1              1          2        2950       2017-02-25        False   \n",
       "2              2          3        3120       2017-05-21         True   \n",
       "3              3         37         402       2017-10-16        False   \n",
       "4              4         88        3135       2017-08-31        False   \n",
       "5              5         78         787       2017-10-01         True   \n",
       "\n",
       "0 order_status           brand product_line product_class product_size  \\\n",
       "1     Approved           Solex     Standard        medium       medium   \n",
       "2     Approved   Trek Bicycles     Standard        medium        large   \n",
       "3     Approved      OHM Cycles     Standard           low       medium   \n",
       "4     Approved  Norco Bicycles     Standard        medium       medium   \n",
       "5     Approved  Giant Bicycles     Standard        medium        large   \n",
       "\n",
       "0  list_price  standard_cost product_first_sold_date  \n",
       "1       71.49          53.62              2012-12-02  \n",
       "2     2091.47         388.92              2014-03-03  \n",
       "3     1793.43         248.82              1999-07-20  \n",
       "4     1198.46         381.10              1998-12-16  \n",
       "5     1765.30         709.48              2015-08-10  "
      ]
     },
     "execution_count": 12,
     "metadata": {},
     "output_type": "execute_result"
    }
   ],
   "source": [
    "#checking that all changes have been accurately implemented\n",
    "KPMG_TSC.head()"
   ]
  },
  {
   "cell_type": "code",
   "execution_count": 13,
   "id": "e212b85d",
   "metadata": {},
   "outputs": [
    {
     "data": {
      "text/plain": [
       "0"
      ]
     },
     "execution_count": 13,
     "metadata": {},
     "output_type": "execute_result"
    }
   ],
   "source": [
    "#checking for duplicates in the dataset\n",
    "len(KPMG_TSC[KPMG_TSC.duplicated()])"
   ]
  },
  {
   "cell_type": "markdown",
   "id": "08a4a77b",
   "metadata": {},
   "source": [
    "There were no duplicates found in the dataset"
   ]
  },
  {
   "cell_type": "markdown",
   "id": "1aa1b3f2",
   "metadata": {},
   "source": [
    "## checking each column for data acuracy"
   ]
  },
  {
   "cell_type": "code",
   "execution_count": 14,
   "id": "7cbd6c09",
   "metadata": {},
   "outputs": [
    {
     "data": {
      "text/plain": [
       "0     1157\n",
       "3      349\n",
       "1      305\n",
       "38     267\n",
       "35     261\n",
       "Name: product_id, dtype: int64"
      ]
     },
     "execution_count": 14,
     "metadata": {},
     "output_type": "execute_result"
    }
   ],
   "source": [
    "#checking for accuracy in the product_id column\n",
    "KPMG_TSC.product_id.value_counts().head()"
   ]
  },
  {
   "cell_type": "code",
   "execution_count": 15,
   "id": "b19b606c",
   "metadata": {},
   "outputs": [
    {
     "data": {
      "text/plain": [
       "Solex             273\n",
       "OHM Cycles        240\n",
       "Norco Bicycles    238\n",
       "Trek Bicycles     212\n",
       "Giant Bicycles    101\n",
       "WeareA2B           93\n",
       "Name: brand, dtype: int64"
      ]
     },
     "execution_count": 15,
     "metadata": {},
     "output_type": "execute_result"
    }
   ],
   "source": [
    "KPMG_TSC[KPMG_TSC.product_id == 0]['brand'].value_counts()"
   ]
  },
  {
   "cell_type": "code",
   "execution_count": 16,
   "id": "ce101e0d",
   "metadata": {},
   "outputs": [
    {
     "data": {
      "text/plain": [
       "Trek Bicycles    349\n",
       "Name: brand, dtype: int64"
      ]
     },
     "execution_count": 16,
     "metadata": {},
     "output_type": "execute_result"
    }
   ],
   "source": [
    "KPMG_TSC[KPMG_TSC.product_id == 3]['brand'].value_counts()"
   ]
  },
  {
   "cell_type": "code",
   "execution_count": 17,
   "id": "da29535c",
   "metadata": {},
   "outputs": [
    {
     "data": {
      "text/plain": [
       "Giant Bicycles    305\n",
       "Name: brand, dtype: int64"
      ]
     },
     "execution_count": 17,
     "metadata": {},
     "output_type": "execute_result"
    }
   ],
   "source": [
    "KPMG_TSC[KPMG_TSC.product_id == 1]['brand'].value_counts()"
   ]
  },
  {
   "cell_type": "code",
   "execution_count": 18,
   "id": "39bf779e",
   "metadata": {},
   "outputs": [
    {
     "data": {
      "text/plain": [
       "Solex            156\n",
       "Trek Bicycles    111\n",
       "Name: brand, dtype: int64"
      ]
     },
     "execution_count": 18,
     "metadata": {},
     "output_type": "execute_result"
    }
   ],
   "source": [
    "KPMG_TSC[KPMG_TSC.product_id == 38]['brand'].value_counts()"
   ]
  },
  {
   "cell_type": "code",
   "execution_count": 19,
   "id": "8a23ec6a",
   "metadata": {},
   "outputs": [
    {
     "data": {
      "text/plain": [
       "Trek Bicycles     138\n",
       "Giant Bicycles    123\n",
       "Name: brand, dtype: int64"
      ]
     },
     "execution_count": 19,
     "metadata": {},
     "output_type": "execute_result"
    }
   ],
   "source": [
    "KPMG_TSC[KPMG_TSC.product_id == 35]['brand'].value_counts()"
   ]
  },
  {
   "cell_type": "markdown",
   "id": "08de18af",
   "metadata": {},
   "source": [
    "Some product id belong to only one brand while others belong to multiple brands. This raises concerns about the accuracy of the product ids\n"
   ]
  },
  {
   "cell_type": "code",
   "execution_count": 20,
   "id": "6abfd03d",
   "metadata": {},
   "outputs": [
    {
     "data": {
      "text/plain": [
       "1068    14\n",
       "2476    14\n",
       "2183    14\n",
       "1302    13\n",
       "2912    13\n",
       "Name: customer_id, dtype: int64"
      ]
     },
     "execution_count": 20,
     "metadata": {},
     "output_type": "execute_result"
    }
   ],
   "source": [
    "#checking for accuracy in the customer_id column\n",
    "KPMG_TSC.customer_id.value_counts().head()"
   ]
  },
  {
   "cell_type": "code",
   "execution_count": 21,
   "id": "70f3468e",
   "metadata": {},
   "outputs": [
    {
     "data": {
      "text/plain": [
       "2017-08-18    81\n",
       "2017-02-14    81\n",
       "2017-10-15    73\n",
       "2017-01-31    72\n",
       "2017-12-19    70\n",
       "Name: transaction_date, dtype: int64"
      ]
     },
     "execution_count": 21,
     "metadata": {},
     "output_type": "execute_result"
    }
   ],
   "source": [
    "#checking for accuracy in the transaction_date column\n",
    "KPMG_TSC.transaction_date.value_counts().head()"
   ]
  },
  {
   "cell_type": "code",
   "execution_count": 22,
   "id": "6ded81a1",
   "metadata": {},
   "outputs": [
    {
     "data": {
      "text/plain": [
       "True     9739\n",
       "False    9706\n",
       "Name: online_order, dtype: int64"
      ]
     },
     "execution_count": 22,
     "metadata": {},
     "output_type": "execute_result"
    }
   ],
   "source": [
    "#checking for accuracy in the online_order column\n",
    "KPMG_TSC.online_order.value_counts()"
   ]
  },
  {
   "cell_type": "code",
   "execution_count": 23,
   "id": "fd52d903",
   "metadata": {},
   "outputs": [
    {
     "data": {
      "text/plain": [
       "Approved     19273\n",
       "Cancelled      172\n",
       "Name: order_status, dtype: int64"
      ]
     },
     "execution_count": 23,
     "metadata": {},
     "output_type": "execute_result"
    }
   ],
   "source": [
    "#checking for accuracy in the order_status column\n",
    "KPMG_TSC.order_status.value_counts()"
   ]
  },
  {
   "cell_type": "code",
   "execution_count": 24,
   "id": "4cee2753",
   "metadata": {},
   "outputs": [
    {
     "data": {
      "text/plain": [
       "Solex             4169\n",
       "WeareA2B          3245\n",
       "Giant Bicycles    3244\n",
       "OHM Cycles        2993\n",
       "Trek Bicycles     2931\n",
       "Norco Bicycles    2863\n",
       "Name: brand, dtype: int64"
      ]
     },
     "execution_count": 24,
     "metadata": {},
     "output_type": "execute_result"
    }
   ],
   "source": [
    "#checking for accuracy in the brand column\n",
    "KPMG_TSC.brand.value_counts()"
   ]
  },
  {
   "cell_type": "code",
   "execution_count": 25,
   "id": "8a1d2d3c",
   "metadata": {},
   "outputs": [
    {
     "data": {
      "text/plain": [
       "Standard    13920\n",
       "Road         3894\n",
       "Touring      1213\n",
       "Mountain      418\n",
       "Name: product_line, dtype: int64"
      ]
     },
     "execution_count": 25,
     "metadata": {},
     "output_type": "execute_result"
    }
   ],
   "source": [
    "#checking for accuracy in the product_line column\n",
    "KPMG_TSC.product_line.value_counts()"
   ]
  },
  {
   "cell_type": "code",
   "execution_count": 26,
   "id": "4eb99a8a",
   "metadata": {},
   "outputs": [
    {
     "data": {
      "text/plain": [
       "medium    13587\n",
       "high       2952\n",
       "low        2906\n",
       "Name: product_class, dtype: int64"
      ]
     },
     "execution_count": 26,
     "metadata": {},
     "output_type": "execute_result"
    }
   ],
   "source": [
    "#checking for accuracy in the product_class column\n",
    "KPMG_TSC.product_class.value_counts()"
   ]
  },
  {
   "cell_type": "code",
   "execution_count": 27,
   "id": "8c9c7af6",
   "metadata": {},
   "outputs": [
    {
     "data": {
      "text/plain": [
       "medium    12767\n",
       "large      3900\n",
       "small      2778\n",
       "Name: product_size, dtype: int64"
      ]
     },
     "execution_count": 27,
     "metadata": {},
     "output_type": "execute_result"
    }
   ],
   "source": [
    "#checking for accuracy in the product_size column\n",
    "KPMG_TSC.product_size.value_counts()"
   ]
  },
  {
   "cell_type": "code",
   "execution_count": 28,
   "id": "85b2bcbd",
   "metadata": {},
   "outputs": [
    {
     "data": {
      "text/plain": [
       "1992-10-02    230\n",
       "2012-06-04    223\n",
       "2003-07-21    221\n",
       "2009-03-08    220\n",
       "2004-08-17    217\n",
       "Name: product_first_sold_date, dtype: int64"
      ]
     },
     "execution_count": 28,
     "metadata": {},
     "output_type": "execute_result"
    }
   ],
   "source": [
    "#checking for accuracy in the product_first_sold_date column\n",
    "KPMG_TSC.product_first_sold_date.value_counts().head()"
   ]
  },
  {
   "cell_type": "markdown",
   "id": "754f8b83",
   "metadata": {},
   "source": [
    "Major data quality issues found in the transactions dataset:\n",
    "\n",
    "1.  Missing values:  The dataset had 360 (1.8%) missing values in the 'online_order' column . The columns 'brand', 'product_line', 'product_class', 'product_size', 'standard_cost', 'product_first_sold_date' all had 197 (0.985% ) missing values spanning across the same rows.\n",
    "\n",
    "2.  Wrong data type of columns: Some columns had values presented in wrong data types. e.g  'product_first_sold_date'.\n",
    "\n",
    "3.  Column accuracy: In the product_id column, some product ids belong to only one brand while others belong to multiple brands. This may lead to the assumation that no brand of product has a unique product id.\n",
    "\n",
    "Mitigation:  A total of 2.8% missing values were removed from the dataset and appropriate data transformations were made to ensure consistent data types for a given field.\n",
    "\n",
    "Recommendation:  Ensure that fact tables in the given database have constraints on data types. "
   ]
  },
  {
   "cell_type": "markdown",
   "id": "31df7ef6",
   "metadata": {},
   "source": [
    "# Checking for data quality in the NewCustomerList dataset"
   ]
  },
  {
   "cell_type": "code",
   "execution_count": 29,
   "id": "685138d0",
   "metadata": {},
   "outputs": [
    {
     "data": {
      "text/html": [
       "<div>\n",
       "<style scoped>\n",
       "    .dataframe tbody tr th:only-of-type {\n",
       "        vertical-align: middle;\n",
       "    }\n",
       "\n",
       "    .dataframe tbody tr th {\n",
       "        vertical-align: top;\n",
       "    }\n",
       "\n",
       "    .dataframe thead th {\n",
       "        text-align: right;\n",
       "    }\n",
       "</style>\n",
       "<table border=\"1\" class=\"dataframe\">\n",
       "  <thead>\n",
       "    <tr style=\"text-align: right;\">\n",
       "      <th></th>\n",
       "      <th>first_name</th>\n",
       "      <th>last_name</th>\n",
       "      <th>gender</th>\n",
       "      <th>past_3_years_bike_related_purchases</th>\n",
       "      <th>DOB</th>\n",
       "      <th>job_title</th>\n",
       "      <th>job_industry_category</th>\n",
       "      <th>wealth_segment</th>\n",
       "      <th>deceased_indicator</th>\n",
       "      <th>owns_car</th>\n",
       "      <th>tenure</th>\n",
       "      <th>address</th>\n",
       "      <th>postcode</th>\n",
       "      <th>state</th>\n",
       "      <th>country</th>\n",
       "      <th>property_valuation</th>\n",
       "      <th>NaN</th>\n",
       "      <th>NaN</th>\n",
       "      <th>NaN</th>\n",
       "      <th>NaN</th>\n",
       "      <th>NaN</th>\n",
       "      <th>Rank</th>\n",
       "      <th>Value</th>\n",
       "    </tr>\n",
       "  </thead>\n",
       "  <tbody>\n",
       "    <tr>\n",
       "      <th>1</th>\n",
       "      <td>Chickie</td>\n",
       "      <td>Brister</td>\n",
       "      <td>Male</td>\n",
       "      <td>86</td>\n",
       "      <td>1957-07-12</td>\n",
       "      <td>General Manager</td>\n",
       "      <td>Manufacturing</td>\n",
       "      <td>Mass Customer</td>\n",
       "      <td>N</td>\n",
       "      <td>Yes</td>\n",
       "      <td>14</td>\n",
       "      <td>45 Shopko Center</td>\n",
       "      <td>4500</td>\n",
       "      <td>QLD</td>\n",
       "      <td>Australia</td>\n",
       "      <td>6</td>\n",
       "      <td>0.63</td>\n",
       "      <td>0.7875</td>\n",
       "      <td>0.984375</td>\n",
       "      <td>0.836719</td>\n",
       "      <td>1.0</td>\n",
       "      <td>1</td>\n",
       "      <td>1.71875</td>\n",
       "    </tr>\n",
       "    <tr>\n",
       "      <th>2</th>\n",
       "      <td>Morly</td>\n",
       "      <td>Genery</td>\n",
       "      <td>Male</td>\n",
       "      <td>69</td>\n",
       "      <td>1970-03-22</td>\n",
       "      <td>Structural Engineer</td>\n",
       "      <td>Property</td>\n",
       "      <td>Mass Customer</td>\n",
       "      <td>N</td>\n",
       "      <td>No</td>\n",
       "      <td>16</td>\n",
       "      <td>14 Mccormick Park</td>\n",
       "      <td>2113</td>\n",
       "      <td>NSW</td>\n",
       "      <td>Australia</td>\n",
       "      <td>11</td>\n",
       "      <td>0.81</td>\n",
       "      <td>0.8100</td>\n",
       "      <td>1.012500</td>\n",
       "      <td>0.860625</td>\n",
       "      <td>1.0</td>\n",
       "      <td>1</td>\n",
       "      <td>1.71875</td>\n",
       "    </tr>\n",
       "    <tr>\n",
       "      <th>3</th>\n",
       "      <td>Ardelis</td>\n",
       "      <td>Forrester</td>\n",
       "      <td>Female</td>\n",
       "      <td>10</td>\n",
       "      <td>1974-08-28 00:00:00</td>\n",
       "      <td>Senior Cost Accountant</td>\n",
       "      <td>Financial Services</td>\n",
       "      <td>Affluent Customer</td>\n",
       "      <td>N</td>\n",
       "      <td>No</td>\n",
       "      <td>10</td>\n",
       "      <td>5 Colorado Crossing</td>\n",
       "      <td>3505</td>\n",
       "      <td>VIC</td>\n",
       "      <td>Australia</td>\n",
       "      <td>5</td>\n",
       "      <td>0.69</td>\n",
       "      <td>0.6900</td>\n",
       "      <td>0.690000</td>\n",
       "      <td>0.690000</td>\n",
       "      <td>1.0</td>\n",
       "      <td>1</td>\n",
       "      <td>1.71875</td>\n",
       "    </tr>\n",
       "    <tr>\n",
       "      <th>4</th>\n",
       "      <td>Lucine</td>\n",
       "      <td>Stutt</td>\n",
       "      <td>Female</td>\n",
       "      <td>64</td>\n",
       "      <td>1979-01-28</td>\n",
       "      <td>Account Representative III</td>\n",
       "      <td>Manufacturing</td>\n",
       "      <td>Affluent Customer</td>\n",
       "      <td>N</td>\n",
       "      <td>Yes</td>\n",
       "      <td>5</td>\n",
       "      <td>207 Annamark Plaza</td>\n",
       "      <td>4814</td>\n",
       "      <td>QLD</td>\n",
       "      <td>Australia</td>\n",
       "      <td>1</td>\n",
       "      <td>0.44</td>\n",
       "      <td>0.5500</td>\n",
       "      <td>0.550000</td>\n",
       "      <td>0.550000</td>\n",
       "      <td>4.0</td>\n",
       "      <td>4</td>\n",
       "      <td>1.703125</td>\n",
       "    </tr>\n",
       "    <tr>\n",
       "      <th>5</th>\n",
       "      <td>Melinda</td>\n",
       "      <td>Hadlee</td>\n",
       "      <td>Female</td>\n",
       "      <td>34</td>\n",
       "      <td>1965-09-21</td>\n",
       "      <td>Financial Analyst</td>\n",
       "      <td>Financial Services</td>\n",
       "      <td>Affluent Customer</td>\n",
       "      <td>N</td>\n",
       "      <td>No</td>\n",
       "      <td>19</td>\n",
       "      <td>115 Montana Place</td>\n",
       "      <td>2093</td>\n",
       "      <td>NSW</td>\n",
       "      <td>Australia</td>\n",
       "      <td>9</td>\n",
       "      <td>0.54</td>\n",
       "      <td>0.5400</td>\n",
       "      <td>0.675000</td>\n",
       "      <td>0.675000</td>\n",
       "      <td>4.0</td>\n",
       "      <td>4</td>\n",
       "      <td>1.703125</td>\n",
       "    </tr>\n",
       "  </tbody>\n",
       "</table>\n",
       "</div>"
      ],
      "text/plain": [
       "0 first_name  last_name  gender past_3_years_bike_related_purchases  \\\n",
       "1    Chickie    Brister    Male                                  86   \n",
       "2      Morly     Genery    Male                                  69   \n",
       "3    Ardelis  Forrester  Female                                  10   \n",
       "4     Lucine      Stutt  Female                                  64   \n",
       "5    Melinda     Hadlee  Female                                  34   \n",
       "\n",
       "0                  DOB                   job_title job_industry_category  \\\n",
       "1           1957-07-12             General Manager         Manufacturing   \n",
       "2           1970-03-22         Structural Engineer              Property   \n",
       "3  1974-08-28 00:00:00      Senior Cost Accountant    Financial Services   \n",
       "4           1979-01-28  Account Representative III         Manufacturing   \n",
       "5           1965-09-21           Financial Analyst    Financial Services   \n",
       "\n",
       "0     wealth_segment deceased_indicator owns_car tenure              address  \\\n",
       "1      Mass Customer                  N      Yes     14     45 Shopko Center   \n",
       "2      Mass Customer                  N       No     16    14 Mccormick Park   \n",
       "3  Affluent Customer                  N       No     10  5 Colorado Crossing   \n",
       "4  Affluent Customer                  N      Yes      5   207 Annamark Plaza   \n",
       "5  Affluent Customer                  N       No     19    115 Montana Place   \n",
       "\n",
       "0 postcode state    country property_valuation   NaN     NaN       NaN  \\\n",
       "1     4500   QLD  Australia                  6  0.63  0.7875  0.984375   \n",
       "2     2113   NSW  Australia                 11  0.81  0.8100  1.012500   \n",
       "3     3505   VIC  Australia                  5  0.69  0.6900  0.690000   \n",
       "4     4814   QLD  Australia                  1  0.44  0.5500  0.550000   \n",
       "5     2093   NSW  Australia                  9  0.54  0.5400  0.675000   \n",
       "\n",
       "0       NaN  NaN Rank     Value  \n",
       "1  0.836719  1.0    1   1.71875  \n",
       "2  0.860625  1.0    1   1.71875  \n",
       "3  0.690000  1.0    1   1.71875  \n",
       "4  0.550000  4.0    4  1.703125  \n",
       "5  0.675000  4.0    4  1.703125  "
      ]
     },
     "execution_count": 29,
     "metadata": {},
     "output_type": "execute_result"
    }
   ],
   "source": [
    "#Viewing the dataset\n",
    "KPMG_NCL.head()"
   ]
  },
  {
   "cell_type": "code",
   "execution_count": 30,
   "id": "5fcbb314",
   "metadata": {},
   "outputs": [
    {
     "name": "stdout",
     "output_type": "stream",
     "text": [
      "<class 'pandas.core.frame.DataFrame'>\n",
      "RangeIndex: 1000 entries, 1 to 1000\n",
      "Data columns (total 23 columns):\n",
      " #   Column                               Non-Null Count  Dtype  \n",
      "---  ------                               --------------  -----  \n",
      " 0   first_name                           1000 non-null   object \n",
      " 1   last_name                            971 non-null    object \n",
      " 2   gender                               1000 non-null   object \n",
      " 3   past_3_years_bike_related_purchases  1000 non-null   object \n",
      " 4   DOB                                  983 non-null    object \n",
      " 5   job_title                            894 non-null    object \n",
      " 6   job_industry_category                835 non-null    object \n",
      " 7   wealth_segment                       1000 non-null   object \n",
      " 8   deceased_indicator                   1000 non-null   object \n",
      " 9   owns_car                             1000 non-null   object \n",
      " 10  tenure                               1000 non-null   object \n",
      " 11  address                              1000 non-null   object \n",
      " 12  postcode                             1000 non-null   object \n",
      " 13  state                                1000 non-null   object \n",
      " 14  country                              1000 non-null   object \n",
      " 15  property_valuation                   1000 non-null   object \n",
      " 16  nan                                  1000 non-null   float64\n",
      " 17  nan                                  1000 non-null   float64\n",
      " 18  nan                                  1000 non-null   float64\n",
      " 19  nan                                  1000 non-null   float64\n",
      " 20  nan                                  1000 non-null   float64\n",
      " 21  Rank                                 1000 non-null   object \n",
      " 22  Value                                1000 non-null   object \n",
      "dtypes: float64(5), object(18)\n",
      "memory usage: 109.4+ KB\n"
     ]
    }
   ],
   "source": [
    "#checking the details of the column\n",
    "KPMG_NCL.info()"
   ]
  },
  {
   "cell_type": "code",
   "execution_count": 31,
   "id": "ef5167b4",
   "metadata": {},
   "outputs": [
    {
     "data": {
      "text/plain": [
       "0\n",
       "first_name                               0\n",
       "last_name                               29\n",
       "gender                                   0\n",
       "past_3_years_bike_related_purchases      0\n",
       "DOB                                     17\n",
       "job_title                              106\n",
       "job_industry_category                  165\n",
       "wealth_segment                           0\n",
       "deceased_indicator                       0\n",
       "owns_car                                 0\n",
       "tenure                                   0\n",
       "address                                  0\n",
       "postcode                                 0\n",
       "state                                    0\n",
       "country                                  0\n",
       "property_valuation                       0\n",
       "NaN                                      0\n",
       "NaN                                      0\n",
       "NaN                                      0\n",
       "NaN                                      0\n",
       "NaN                                      0\n",
       "Rank                                     0\n",
       "Value                                    0\n",
       "dtype: int64"
      ]
     },
     "execution_count": 31,
     "metadata": {},
     "output_type": "execute_result"
    }
   ],
   "source": [
    "#number of missing values in each column\n",
    "KPMG_NCL.isnull().sum()"
   ]
  },
  {
   "cell_type": "markdown",
   "id": "b414f13b",
   "metadata": {},
   "source": [
    "The columns: job_title and job_industry_category have the highest number of missing values however these columns are not sensitive enough to require being dropped from dataset but cannot be replaced by the mode of the column due to the need for accuracy hence each null value will be replaced with \"N/A\" (Not Available)"
   ]
  },
  {
   "cell_type": "code",
   "execution_count": 32,
   "id": "4a5beec2",
   "metadata": {},
   "outputs": [
    {
     "name": "stdout",
     "output_type": "stream",
     "text": [
      "<class 'pandas.core.frame.DataFrame'>\n",
      "RangeIndex: 1000 entries, 1 to 1000\n",
      "Data columns (total 23 columns):\n",
      " #   Column                               Non-Null Count  Dtype  \n",
      "---  ------                               --------------  -----  \n",
      " 0   first_name                           1000 non-null   object \n",
      " 1   last_name                            971 non-null    object \n",
      " 2   gender                               1000 non-null   object \n",
      " 3   past_3_years_bike_related_purchases  1000 non-null   object \n",
      " 4   DOB                                  983 non-null    object \n",
      " 5   job_title                            1000 non-null   object \n",
      " 6   job_industry_category                1000 non-null   object \n",
      " 7   wealth_segment                       1000 non-null   object \n",
      " 8   deceased_indicator                   1000 non-null   object \n",
      " 9   owns_car                             1000 non-null   object \n",
      " 10  tenure                               1000 non-null   object \n",
      " 11  address                              1000 non-null   object \n",
      " 12  postcode                             1000 non-null   object \n",
      " 13  state                                1000 non-null   object \n",
      " 14  country                              1000 non-null   object \n",
      " 15  property_valuation                   1000 non-null   object \n",
      " 16  nan                                  1000 non-null   float64\n",
      " 17  nan                                  1000 non-null   float64\n",
      " 18  nan                                  1000 non-null   float64\n",
      " 19  nan                                  1000 non-null   float64\n",
      " 20  nan                                  1000 non-null   float64\n",
      " 21  Rank                                 1000 non-null   object \n",
      " 22  Value                                1000 non-null   object \n",
      "dtypes: float64(5), object(18)\n",
      "memory usage: 109.4+ KB\n"
     ]
    }
   ],
   "source": [
    "#filling the null values in both columns\n",
    "KPMG_NCL['job_title'].fillna('N/A', inplace = True)\n",
    "KPMG_NCL['job_industry_category'].fillna('N/A', inplace = True)\n",
    "KPMG_NCL.info()"
   ]
  },
  {
   "cell_type": "code",
   "execution_count": 33,
   "id": "501aa47b",
   "metadata": {},
   "outputs": [
    {
     "data": {
      "text/html": [
       "<div>\n",
       "<style scoped>\n",
       "    .dataframe tbody tr th:only-of-type {\n",
       "        vertical-align: middle;\n",
       "    }\n",
       "\n",
       "    .dataframe tbody tr th {\n",
       "        vertical-align: top;\n",
       "    }\n",
       "\n",
       "    .dataframe thead th {\n",
       "        text-align: right;\n",
       "    }\n",
       "</style>\n",
       "<table border=\"1\" class=\"dataframe\">\n",
       "  <thead>\n",
       "    <tr style=\"text-align: right;\">\n",
       "      <th></th>\n",
       "      <th>first_name</th>\n",
       "      <th>last_name</th>\n",
       "      <th>gender</th>\n",
       "      <th>past_3_years_bike_related_purchases</th>\n",
       "      <th>DOB</th>\n",
       "      <th>job_title</th>\n",
       "      <th>job_industry_category</th>\n",
       "      <th>wealth_segment</th>\n",
       "      <th>deceased_indicator</th>\n",
       "      <th>owns_car</th>\n",
       "      <th>tenure</th>\n",
       "      <th>address</th>\n",
       "      <th>postcode</th>\n",
       "      <th>state</th>\n",
       "      <th>country</th>\n",
       "      <th>property_valuation</th>\n",
       "      <th>NaN</th>\n",
       "      <th>NaN</th>\n",
       "      <th>NaN</th>\n",
       "      <th>NaN</th>\n",
       "      <th>NaN</th>\n",
       "      <th>Rank</th>\n",
       "      <th>Value</th>\n",
       "    </tr>\n",
       "  </thead>\n",
       "  <tbody>\n",
       "    <tr>\n",
       "      <th>13</th>\n",
       "      <td>Olag</td>\n",
       "      <td>NaN</td>\n",
       "      <td>Male</td>\n",
       "      <td>60</td>\n",
       "      <td>1990-05-13</td>\n",
       "      <td>Human Resources Manager</td>\n",
       "      <td>Telecommunications</td>\n",
       "      <td>Mass Customer</td>\n",
       "      <td>N</td>\n",
       "      <td>No</td>\n",
       "      <td>9</td>\n",
       "      <td>0484 North Avenue</td>\n",
       "      <td>2032</td>\n",
       "      <td>NSW</td>\n",
       "      <td>Australia</td>\n",
       "      <td>11</td>\n",
       "      <td>0.93</td>\n",
       "      <td>0.9300</td>\n",
       "      <td>1.162500</td>\n",
       "      <td>0.988125</td>\n",
       "      <td>13.0</td>\n",
       "      <td>13</td>\n",
       "      <td>1.609375</td>\n",
       "    </tr>\n",
       "    <tr>\n",
       "      <th>59</th>\n",
       "      <td>Whittaker</td>\n",
       "      <td>NaN</td>\n",
       "      <td>Male</td>\n",
       "      <td>64</td>\n",
       "      <td>1966-07-29</td>\n",
       "      <td>Media Manager III</td>\n",
       "      <td>N/A</td>\n",
       "      <td>Mass Customer</td>\n",
       "      <td>N</td>\n",
       "      <td>Yes</td>\n",
       "      <td>8</td>\n",
       "      <td>683 Florence Way</td>\n",
       "      <td>3156</td>\n",
       "      <td>VIC</td>\n",
       "      <td>Australia</td>\n",
       "      <td>5</td>\n",
       "      <td>0.73</td>\n",
       "      <td>0.9125</td>\n",
       "      <td>0.912500</td>\n",
       "      <td>0.775625</td>\n",
       "      <td>57.0</td>\n",
       "      <td>57</td>\n",
       "      <td>1.375</td>\n",
       "    </tr>\n",
       "    <tr>\n",
       "      <th>88</th>\n",
       "      <td>Kahaleel</td>\n",
       "      <td>NaN</td>\n",
       "      <td>Male</td>\n",
       "      <td>5</td>\n",
       "      <td>1942-11-01</td>\n",
       "      <td>GIS Technical Architect</td>\n",
       "      <td>N/A</td>\n",
       "      <td>High Net Worth</td>\n",
       "      <td>N</td>\n",
       "      <td>No</td>\n",
       "      <td>13</td>\n",
       "      <td>12 Arapahoe Park</td>\n",
       "      <td>2035</td>\n",
       "      <td>NSW</td>\n",
       "      <td>Australia</td>\n",
       "      <td>12</td>\n",
       "      <td>0.66</td>\n",
       "      <td>0.6600</td>\n",
       "      <td>0.825000</td>\n",
       "      <td>0.825000</td>\n",
       "      <td>88.0</td>\n",
       "      <td>88</td>\n",
       "      <td>1.314844</td>\n",
       "    </tr>\n",
       "    <tr>\n",
       "      <th>156</th>\n",
       "      <td>Bill</td>\n",
       "      <td>NaN</td>\n",
       "      <td>Female</td>\n",
       "      <td>74</td>\n",
       "      <td>1963-04-24</td>\n",
       "      <td>Human Resources Assistant II</td>\n",
       "      <td>Property</td>\n",
       "      <td>Mass Customer</td>\n",
       "      <td>N</td>\n",
       "      <td>Yes</td>\n",
       "      <td>19</td>\n",
       "      <td>6704 Pine View Lane</td>\n",
       "      <td>2170</td>\n",
       "      <td>NSW</td>\n",
       "      <td>Australia</td>\n",
       "      <td>9</td>\n",
       "      <td>0.67</td>\n",
       "      <td>0.8375</td>\n",
       "      <td>1.046875</td>\n",
       "      <td>0.889844</td>\n",
       "      <td>155.0</td>\n",
       "      <td>155</td>\n",
       "      <td>1.2</td>\n",
       "    </tr>\n",
       "    <tr>\n",
       "      <th>203</th>\n",
       "      <td>Glyn</td>\n",
       "      <td>NaN</td>\n",
       "      <td>Male</td>\n",
       "      <td>47</td>\n",
       "      <td>1945-02-13</td>\n",
       "      <td>General Manager</td>\n",
       "      <td>Manufacturing</td>\n",
       "      <td>Affluent Customer</td>\n",
       "      <td>N</td>\n",
       "      <td>Yes</td>\n",
       "      <td>21</td>\n",
       "      <td>67 Bluejay Plaza</td>\n",
       "      <td>2300</td>\n",
       "      <td>NSW</td>\n",
       "      <td>Australia</td>\n",
       "      <td>9</td>\n",
       "      <td>0.58</td>\n",
       "      <td>0.7250</td>\n",
       "      <td>0.906250</td>\n",
       "      <td>0.906250</td>\n",
       "      <td>202.0</td>\n",
       "      <td>202</td>\n",
       "      <td>1.140625</td>\n",
       "    </tr>\n",
       "  </tbody>\n",
       "</table>\n",
       "</div>"
      ],
      "text/plain": [
       "0   first_name last_name  gender past_3_years_bike_related_purchases  \\\n",
       "13        Olag       NaN    Male                                  60   \n",
       "59   Whittaker       NaN    Male                                  64   \n",
       "88    Kahaleel       NaN    Male                                   5   \n",
       "156       Bill       NaN  Female                                  74   \n",
       "203       Glyn       NaN    Male                                  47   \n",
       "\n",
       "0           DOB                     job_title job_industry_category  \\\n",
       "13   1990-05-13       Human Resources Manager    Telecommunications   \n",
       "59   1966-07-29             Media Manager III                   N/A   \n",
       "88   1942-11-01       GIS Technical Architect                   N/A   \n",
       "156  1963-04-24  Human Resources Assistant II              Property   \n",
       "203  1945-02-13               General Manager         Manufacturing   \n",
       "\n",
       "0       wealth_segment deceased_indicator owns_car tenure  \\\n",
       "13       Mass Customer                  N       No      9   \n",
       "59       Mass Customer                  N      Yes      8   \n",
       "88      High Net Worth                  N       No     13   \n",
       "156      Mass Customer                  N      Yes     19   \n",
       "203  Affluent Customer                  N      Yes     21   \n",
       "\n",
       "0                address postcode state    country property_valuation   NaN  \\\n",
       "13     0484 North Avenue     2032   NSW  Australia                 11  0.93   \n",
       "59      683 Florence Way     3156   VIC  Australia                  5  0.73   \n",
       "88      12 Arapahoe Park     2035   NSW  Australia                 12  0.66   \n",
       "156  6704 Pine View Lane     2170   NSW  Australia                  9  0.67   \n",
       "203     67 Bluejay Plaza     2300   NSW  Australia                  9  0.58   \n",
       "\n",
       "0       NaN       NaN       NaN    NaN Rank     Value  \n",
       "13   0.9300  1.162500  0.988125   13.0   13  1.609375  \n",
       "59   0.9125  0.912500  0.775625   57.0   57     1.375  \n",
       "88   0.6600  0.825000  0.825000   88.0   88  1.314844  \n",
       "156  0.8375  1.046875  0.889844  155.0  155       1.2  \n",
       "203  0.7250  0.906250  0.906250  202.0  202  1.140625  "
      ]
     },
     "execution_count": 33,
     "metadata": {},
     "output_type": "execute_result"
    }
   ],
   "source": [
    "#checking for the positions of null values in last name column to see if it coincides with the null values in DOB column\n",
    "KPMG_NCL[KPMG_NCL['last_name'].isnull()].head()"
   ]
  },
  {
   "cell_type": "code",
   "execution_count": 34,
   "id": "6d8c0c38",
   "metadata": {},
   "outputs": [
    {
     "name": "stdout",
     "output_type": "stream",
     "text": [
      "<class 'pandas.core.frame.DataFrame'>\n",
      "RangeIndex: 1000 entries, 1 to 1000\n",
      "Data columns (total 23 columns):\n",
      " #   Column                               Non-Null Count  Dtype         \n",
      "---  ------                               --------------  -----         \n",
      " 0   first_name                           1000 non-null   object        \n",
      " 1   last_name                            971 non-null    object        \n",
      " 2   gender                               1000 non-null   object        \n",
      " 3   past_3_years_bike_related_purchases  1000 non-null   float64       \n",
      " 4   DOB                                  983 non-null    datetime64[ns]\n",
      " 5   job_title                            1000 non-null   object        \n",
      " 6   job_industry_category                1000 non-null   object        \n",
      " 7   wealth_segment                       1000 non-null   object        \n",
      " 8   deceased_indicator                   1000 non-null   object        \n",
      " 9   owns_car                             1000 non-null   object        \n",
      " 10  tenure                               1000 non-null   int32         \n",
      " 11  address                              1000 non-null   object        \n",
      " 12  postcode                             1000 non-null   object        \n",
      " 13  state                                1000 non-null   object        \n",
      " 14  country                              1000 non-null   object        \n",
      " 15  property_valuation                   1000 non-null   int32         \n",
      " 16  nan                                  1000 non-null   float64       \n",
      " 17  nan                                  1000 non-null   float64       \n",
      " 18  nan                                  1000 non-null   float64       \n",
      " 19  nan                                  1000 non-null   float64       \n",
      " 20  nan                                  1000 non-null   float64       \n",
      " 21  Rank                                 1000 non-null   int32         \n",
      " 22  Value                                1000 non-null   float64       \n",
      "dtypes: datetime64[ns](1), float64(7), int32(3), object(12)\n",
      "memory usage: 121.2+ KB\n"
     ]
    }
   ],
   "source": [
    "#Recasting in the appropriate datatypes\n",
    "KPMG_NCL['past_3_years_bike_related_purchases'] = KPMG_NCL['past_3_years_bike_related_purchases'].astype('float')\n",
    "KPMG_NCL['DOB'] = pd.to_datetime(KPMG_NCL['DOB'])\n",
    "KPMG_NCL['tenure'] = KPMG_NCL['tenure'].astype('int')\n",
    "KPMG_NCL['property_valuation'] = KPMG_NCL['property_valuation'].astype('int')\n",
    "KPMG_NCL['Rank'] = KPMG_NCL['Rank'].astype('int')\n",
    "KPMG_NCL['Value'] = KPMG_NCL['Value'].astype('float')\n",
    "KPMG_NCL.info()"
   ]
  },
  {
   "cell_type": "code",
   "execution_count": 35,
   "id": "4915f1b2",
   "metadata": {},
   "outputs": [
    {
     "data": {
      "text/plain": [
       "0"
      ]
     },
     "execution_count": 35,
     "metadata": {},
     "output_type": "execute_result"
    }
   ],
   "source": [
    "#Checking for duplicates\n",
    "len(KPMG_NCL[KPMG_NCL.duplicated()])"
   ]
  },
  {
   "cell_type": "markdown",
   "id": "c7e23d76",
   "metadata": {},
   "source": [
    "There were no duplicates found in the dataset"
   ]
  },
  {
   "cell_type": "markdown",
   "id": "6ef4717c",
   "metadata": {},
   "source": [
    "## Checking for accuracy in each column"
   ]
  },
  {
   "cell_type": "code",
   "execution_count": 36,
   "id": "f5f6a265",
   "metadata": {},
   "outputs": [
    {
     "data": {
      "text/plain": [
       "Female    513\n",
       "Male      470\n",
       "U          17\n",
       "Name: gender, dtype: int64"
      ]
     },
     "execution_count": 36,
     "metadata": {},
     "output_type": "execute_result"
    }
   ],
   "source": [
    "#checking for accuracy in the gender column\n",
    "KPMG_NCL['gender'].value_counts()"
   ]
  },
  {
   "cell_type": "markdown",
   "id": "7a7bb842",
   "metadata": {},
   "source": [
    "The gender column has another gender stated as 'U'. It is unclear what this stands for and thus raises concerns about the accuarcy of the column."
   ]
  },
  {
   "cell_type": "code",
   "execution_count": 37,
   "id": "1d5d4fc9",
   "metadata": {},
   "outputs": [
    {
     "data": {
      "text/plain": [
       "Mass Customer        508\n",
       "High Net Worth       251\n",
       "Affluent Customer    241\n",
       "Name: wealth_segment, dtype: int64"
      ]
     },
     "execution_count": 37,
     "metadata": {},
     "output_type": "execute_result"
    }
   ],
   "source": [
    "#checking for accuracy in the wealth_segment column\n",
    "KPMG_NCL['wealth_segment'].value_counts()"
   ]
  },
  {
   "cell_type": "code",
   "execution_count": 38,
   "id": "071a5b3d",
   "metadata": {},
   "outputs": [],
   "source": [
    "#removing the missing values from the dataset\n",
    "KPMG_NCL.dropna(inplace = True)"
   ]
  },
  {
   "cell_type": "markdown",
   "id": "d8da931c",
   "metadata": {},
   "source": [
    "Major data quality issues in the New Customer List dataset:\n",
    "\n",
    "1. Missing Values: The dataset had 106  (10.6%) missing values in job_title and 165 (16.5%) missing values in job_industry_category columns. It also had 29 customers (2.9%) whose last names were not documented and another 17 (1.7%) had missing date of births.\n",
    "\n",
    "2. Column Accuracy: The gender column had accuracy issues. It had another category 'U' other than 'female' and 'male'.\n",
    "\n",
    "3. Missing columns titles: Five columns, positioned between property_valuation and rank had no column title.\n",
    "\n",
    "Mitigation:  Replaced the missing values in job_title and  job_industry_category  with 'N/A' (Not Available) to reduce the number of missing values from 285 to 46.\n",
    "\n",
    "Recommendation: Enforce a drop-down list for the user entering the data rather than a free text field to increase column accuracy. Review all data carefully before separating into customer demographic and customer address datasets.\n"
   ]
  },
  {
   "cell_type": "markdown",
   "id": "811eeb91",
   "metadata": {},
   "source": [
    "# Checking for data quality in the Customer Demographic dataset"
   ]
  },
  {
   "cell_type": "code",
   "execution_count": 39,
   "id": "1fc28bad",
   "metadata": {},
   "outputs": [
    {
     "data": {
      "text/html": [
       "<div>\n",
       "<style scoped>\n",
       "    .dataframe tbody tr th:only-of-type {\n",
       "        vertical-align: middle;\n",
       "    }\n",
       "\n",
       "    .dataframe tbody tr th {\n",
       "        vertical-align: top;\n",
       "    }\n",
       "\n",
       "    .dataframe thead th {\n",
       "        text-align: right;\n",
       "    }\n",
       "</style>\n",
       "<table border=\"1\" class=\"dataframe\">\n",
       "  <thead>\n",
       "    <tr style=\"text-align: right;\">\n",
       "      <th></th>\n",
       "      <th>customer_id</th>\n",
       "      <th>first_name</th>\n",
       "      <th>last_name</th>\n",
       "      <th>gender</th>\n",
       "      <th>past_3_years_bike_related_purchases</th>\n",
       "      <th>DOB</th>\n",
       "      <th>job_title</th>\n",
       "      <th>job_industry_category</th>\n",
       "      <th>wealth_segment</th>\n",
       "      <th>deceased_indicator</th>\n",
       "      <th>default</th>\n",
       "      <th>owns_car</th>\n",
       "      <th>tenure</th>\n",
       "    </tr>\n",
       "  </thead>\n",
       "  <tbody>\n",
       "    <tr>\n",
       "      <th>1</th>\n",
       "      <td>1</td>\n",
       "      <td>Laraine</td>\n",
       "      <td>Medendorp</td>\n",
       "      <td>F</td>\n",
       "      <td>93</td>\n",
       "      <td>1953-10-12 00:00:00</td>\n",
       "      <td>Executive Secretary</td>\n",
       "      <td>Health</td>\n",
       "      <td>Mass Customer</td>\n",
       "      <td>N</td>\n",
       "      <td>\"'</td>\n",
       "      <td>Yes</td>\n",
       "      <td>11</td>\n",
       "    </tr>\n",
       "    <tr>\n",
       "      <th>2</th>\n",
       "      <td>2</td>\n",
       "      <td>Eli</td>\n",
       "      <td>Bockman</td>\n",
       "      <td>Male</td>\n",
       "      <td>81</td>\n",
       "      <td>1980-12-16 00:00:00</td>\n",
       "      <td>Administrative Officer</td>\n",
       "      <td>Financial Services</td>\n",
       "      <td>Mass Customer</td>\n",
       "      <td>N</td>\n",
       "      <td>&lt;script&gt;alert('hi')&lt;/script&gt;</td>\n",
       "      <td>Yes</td>\n",
       "      <td>16</td>\n",
       "    </tr>\n",
       "    <tr>\n",
       "      <th>3</th>\n",
       "      <td>3</td>\n",
       "      <td>Arlin</td>\n",
       "      <td>Dearle</td>\n",
       "      <td>Male</td>\n",
       "      <td>61</td>\n",
       "      <td>1954-01-20 00:00:00</td>\n",
       "      <td>Recruiting Manager</td>\n",
       "      <td>Property</td>\n",
       "      <td>Mass Customer</td>\n",
       "      <td>N</td>\n",
       "      <td>2018-02-01 00:00:00</td>\n",
       "      <td>Yes</td>\n",
       "      <td>15</td>\n",
       "    </tr>\n",
       "    <tr>\n",
       "      <th>4</th>\n",
       "      <td>4</td>\n",
       "      <td>Talbot</td>\n",
       "      <td>NaN</td>\n",
       "      <td>Male</td>\n",
       "      <td>33</td>\n",
       "      <td>1961-10-03 00:00:00</td>\n",
       "      <td>NaN</td>\n",
       "      <td>IT</td>\n",
       "      <td>Mass Customer</td>\n",
       "      <td>N</td>\n",
       "      <td>() { _; } &gt;_[$($())] { touch /tmp/blns.shellsh...</td>\n",
       "      <td>No</td>\n",
       "      <td>7</td>\n",
       "    </tr>\n",
       "    <tr>\n",
       "      <th>5</th>\n",
       "      <td>5</td>\n",
       "      <td>Sheila-kathryn</td>\n",
       "      <td>Calton</td>\n",
       "      <td>Female</td>\n",
       "      <td>56</td>\n",
       "      <td>1977-05-13 00:00:00</td>\n",
       "      <td>Senior Editor</td>\n",
       "      <td>NaN</td>\n",
       "      <td>Affluent Customer</td>\n",
       "      <td>N</td>\n",
       "      <td>NIL</td>\n",
       "      <td>Yes</td>\n",
       "      <td>8</td>\n",
       "    </tr>\n",
       "  </tbody>\n",
       "</table>\n",
       "</div>"
      ],
      "text/plain": [
       "0 customer_id      first_name  last_name  gender  \\\n",
       "1           1         Laraine  Medendorp       F   \n",
       "2           2             Eli    Bockman    Male   \n",
       "3           3           Arlin     Dearle    Male   \n",
       "4           4          Talbot        NaN    Male   \n",
       "5           5  Sheila-kathryn     Calton  Female   \n",
       "\n",
       "0 past_3_years_bike_related_purchases                  DOB  \\\n",
       "1                                  93  1953-10-12 00:00:00   \n",
       "2                                  81  1980-12-16 00:00:00   \n",
       "3                                  61  1954-01-20 00:00:00   \n",
       "4                                  33  1961-10-03 00:00:00   \n",
       "5                                  56  1977-05-13 00:00:00   \n",
       "\n",
       "0               job_title job_industry_category     wealth_segment  \\\n",
       "1     Executive Secretary                Health      Mass Customer   \n",
       "2  Administrative Officer    Financial Services      Mass Customer   \n",
       "3      Recruiting Manager              Property      Mass Customer   \n",
       "4                     NaN                    IT      Mass Customer   \n",
       "5           Senior Editor                   NaN  Affluent Customer   \n",
       "\n",
       "0 deceased_indicator                                            default  \\\n",
       "1                  N                                                 \"'   \n",
       "2                  N                       <script>alert('hi')</script>   \n",
       "3                  N                                2018-02-01 00:00:00   \n",
       "4                  N  () { _; } >_[$($())] { touch /tmp/blns.shellsh...   \n",
       "5                  N                                                NIL   \n",
       "\n",
       "0 owns_car tenure  \n",
       "1      Yes     11  \n",
       "2      Yes     16  \n",
       "3      Yes     15  \n",
       "4       No      7  \n",
       "5      Yes      8  "
      ]
     },
     "execution_count": 39,
     "metadata": {},
     "output_type": "execute_result"
    }
   ],
   "source": [
    "#viewing the dataset\n",
    "KPMG_CD.head()"
   ]
  },
  {
   "cell_type": "code",
   "execution_count": 40,
   "id": "11eb7b61",
   "metadata": {},
   "outputs": [
    {
     "name": "stdout",
     "output_type": "stream",
     "text": [
      "<class 'pandas.core.frame.DataFrame'>\n",
      "RangeIndex: 4000 entries, 1 to 4000\n",
      "Data columns (total 13 columns):\n",
      " #   Column                               Non-Null Count  Dtype \n",
      "---  ------                               --------------  ----- \n",
      " 0   customer_id                          4000 non-null   object\n",
      " 1   first_name                           4000 non-null   object\n",
      " 2   last_name                            3875 non-null   object\n",
      " 3   gender                               4000 non-null   object\n",
      " 4   past_3_years_bike_related_purchases  4000 non-null   object\n",
      " 5   DOB                                  3913 non-null   object\n",
      " 6   job_title                            3494 non-null   object\n",
      " 7   job_industry_category                3344 non-null   object\n",
      " 8   wealth_segment                       4000 non-null   object\n",
      " 9   deceased_indicator                   4000 non-null   object\n",
      " 10  default                              3698 non-null   object\n",
      " 11  owns_car                             4000 non-null   object\n",
      " 12  tenure                               3913 non-null   object\n",
      "dtypes: object(13)\n",
      "memory usage: 203.2+ KB\n"
     ]
    }
   ],
   "source": [
    "#checking the details of the dataset\n",
    "KPMG_CD.info()"
   ]
  },
  {
   "cell_type": "code",
   "execution_count": 41,
   "id": "8ff3ca2f",
   "metadata": {},
   "outputs": [
    {
     "data": {
      "text/plain": [
       "0\n",
       "customer_id                              0\n",
       "first_name                               0\n",
       "last_name                              125\n",
       "gender                                   0\n",
       "past_3_years_bike_related_purchases      0\n",
       "DOB                                     87\n",
       "job_title                              506\n",
       "job_industry_category                  656\n",
       "wealth_segment                           0\n",
       "deceased_indicator                       0\n",
       "default                                302\n",
       "owns_car                                 0\n",
       "tenure                                  87\n",
       "dtype: int64"
      ]
     },
     "execution_count": 41,
     "metadata": {},
     "output_type": "execute_result"
    }
   ],
   "source": [
    "#Checking the number of missing values in each column\n",
    "KPMG_CD.isnull().sum()"
   ]
  },
  {
   "cell_type": "markdown",
   "id": "4c87195b",
   "metadata": {},
   "source": [
    "The columns: job_title and job_industry_category have the highest number of missing values however these columns are not sensitive enough to require being dropped from dataset but cannot be replaced by the mode of the column due to the need for accuracy hence each null value will be replaced with \"N/A\" (Not Available)"
   ]
  },
  {
   "cell_type": "code",
   "execution_count": 42,
   "id": "003ab150",
   "metadata": {},
   "outputs": [],
   "source": [
    "#filling the null values in both columns\n",
    "KPMG_CD['job_title'].fillna('N/A', inplace = True)\n",
    "KPMG_CD['job_industry_category'].fillna('N/A', inplace = True)"
   ]
  },
  {
   "cell_type": "code",
   "execution_count": 43,
   "id": "26e4a115",
   "metadata": {},
   "outputs": [
    {
     "name": "stdout",
     "output_type": "stream",
     "text": [
      "<class 'pandas.core.frame.DataFrame'>\n",
      "RangeIndex: 4000 entries, 1 to 4000\n",
      "Data columns (total 13 columns):\n",
      " #   Column                               Non-Null Count  Dtype         \n",
      "---  ------                               --------------  -----         \n",
      " 0   customer_id                          4000 non-null   object        \n",
      " 1   first_name                           4000 non-null   object        \n",
      " 2   last_name                            3875 non-null   object        \n",
      " 3   gender                               4000 non-null   object        \n",
      " 4   past_3_years_bike_related_purchases  4000 non-null   float64       \n",
      " 5   DOB                                  3913 non-null   datetime64[ns]\n",
      " 6   job_title                            4000 non-null   object        \n",
      " 7   job_industry_category                4000 non-null   object        \n",
      " 8   wealth_segment                       4000 non-null   object        \n",
      " 9   deceased_indicator                   4000 non-null   object        \n",
      " 10  default                              3698 non-null   object        \n",
      " 11  owns_car                             4000 non-null   object        \n",
      " 12  tenure                               3913 non-null   float64       \n",
      "dtypes: datetime64[ns](1), float64(2), object(10)\n",
      "memory usage: 250.1+ KB\n"
     ]
    }
   ],
   "source": [
    "#Recasting in the appropriate datatypes\n",
    "KPMG_CD['past_3_years_bike_related_purchases'] = KPMG_CD['past_3_years_bike_related_purchases'].astype('float')\n",
    "KPMG_CD['DOB'] = pd.to_datetime(KPMG_CD['DOB'])\n",
    "KPMG_CD['tenure'] = KPMG_CD['tenure'].astype('float')\n",
    "KPMG_CD.info()"
   ]
  },
  {
   "cell_type": "code",
   "execution_count": 44,
   "id": "6c1da4eb",
   "metadata": {},
   "outputs": [
    {
     "data": {
      "text/plain": [
       "0"
      ]
     },
     "execution_count": 44,
     "metadata": {},
     "output_type": "execute_result"
    }
   ],
   "source": [
    "len(KPMG_CD[KPMG_CD.duplicated()])"
   ]
  },
  {
   "cell_type": "markdown",
   "id": "631302f3",
   "metadata": {},
   "source": [
    "No duplicates were found in the dataset"
   ]
  },
  {
   "cell_type": "markdown",
   "id": "403fe657",
   "metadata": {},
   "source": [
    "## checking for accuracy in each column"
   ]
  },
  {
   "cell_type": "code",
   "execution_count": 45,
   "id": "b373111f",
   "metadata": {},
   "outputs": [
    {
     "data": {
      "text/plain": [
       "Female    2037\n",
       "Male      1872\n",
       "U           88\n",
       "F            1\n",
       "Femal        1\n",
       "M            1\n",
       "Name: gender, dtype: int64"
      ]
     },
     "execution_count": 45,
     "metadata": {},
     "output_type": "execute_result"
    }
   ],
   "source": [
    "#checking for accuracy in the gender column\n",
    "KPMG_CD['gender'].value_counts()"
   ]
  },
  {
   "cell_type": "code",
   "execution_count": 46,
   "id": "37a1f332",
   "metadata": {},
   "outputs": [],
   "source": [
    "pd.set_option('mode.chained_assignment', None)"
   ]
  },
  {
   "cell_type": "markdown",
   "id": "b9334a5c",
   "metadata": {},
   "source": [
    "The gender column has other categories than male and female."
   ]
  },
  {
   "cell_type": "code",
   "execution_count": 47,
   "id": "ed79f257",
   "metadata": {},
   "outputs": [],
   "source": [
    "#Replacing the 'F' with 'Female'\n",
    "KPMG_CD['gender'][KPMG_CD['gender'] == 'F']\n",
    "KPMG_CD['gender'].iloc[0] = KPMG_CD['gender'].iloc[0].replace('F', 'Female')"
   ]
  },
  {
   "cell_type": "code",
   "execution_count": 48,
   "id": "2a46406c",
   "metadata": {},
   "outputs": [],
   "source": [
    "#Replacing the 'Femal' with 'Female'\n",
    "KPMG_CD['gender'][KPMG_CD['gender'] == 'Femal']\n",
    "KPMG_CD['gender'].iloc[53] = KPMG_CD['gender'].iloc[53].replace('Femal', 'Female')"
   ]
  },
  {
   "cell_type": "code",
   "execution_count": 49,
   "id": "c5bc6cd4",
   "metadata": {},
   "outputs": [],
   "source": [
    "#Replacing the 'M' with 'Male'\n",
    "KPMG_CD['gender'][KPMG_CD['gender'] == 'M']\n",
    "KPMG_CD['gender'].iloc[56] = KPMG_CD['gender'].iloc[56].replace('M', 'Male')"
   ]
  },
  {
   "cell_type": "code",
   "execution_count": 50,
   "id": "6d752b1f",
   "metadata": {},
   "outputs": [
    {
     "data": {
      "text/plain": [
       "Female    2039\n",
       "Male      1873\n",
       "U           88\n",
       "Name: gender, dtype: int64"
      ]
     },
     "execution_count": 50,
     "metadata": {},
     "output_type": "execute_result"
    }
   ],
   "source": [
    "#Checking the gender column again\n",
    "KPMG_CD['gender'].value_counts()"
   ]
  },
  {
   "cell_type": "code",
   "execution_count": 51,
   "id": "db3f34c8",
   "metadata": {},
   "outputs": [
    {
     "data": {
      "text/plain": [
       "100       113\n",
       "1         112\n",
       "-1        111\n",
       "-100       99\n",
       "Ù¡Ù¢Ù£     53\n",
       "Name: default, dtype: int64"
      ]
     },
     "execution_count": 51,
     "metadata": {},
     "output_type": "execute_result"
    }
   ],
   "source": [
    "#Checking for accuracy in the default column\n",
    "KPMG_CD['default'].value_counts().head()"
   ]
  },
  {
   "cell_type": "markdown",
   "id": "334b5447",
   "metadata": {},
   "source": [
    "The default column has values that are very incomprehensible, therefore posing high inaccuracy issues.\n",
    "This column will be dropped from the dataset"
   ]
  },
  {
   "cell_type": "code",
   "execution_count": 52,
   "id": "c443e4c8",
   "metadata": {},
   "outputs": [
    {
     "name": "stdout",
     "output_type": "stream",
     "text": [
      "<class 'pandas.core.frame.DataFrame'>\n",
      "Int64Index: 3792 entries, 1 to 4000\n",
      "Data columns (total 12 columns):\n",
      " #   Column                               Non-Null Count  Dtype         \n",
      "---  ------                               --------------  -----         \n",
      " 0   customer_id                          3792 non-null   object        \n",
      " 1   first_name                           3792 non-null   object        \n",
      " 2   last_name                            3792 non-null   object        \n",
      " 3   gender                               3792 non-null   object        \n",
      " 4   past_3_years_bike_related_purchases  3792 non-null   float64       \n",
      " 5   DOB                                  3792 non-null   datetime64[ns]\n",
      " 6   job_title                            3792 non-null   object        \n",
      " 7   job_industry_category                3792 non-null   object        \n",
      " 8   wealth_segment                       3792 non-null   object        \n",
      " 9   deceased_indicator                   3792 non-null   object        \n",
      " 10  owns_car                             3792 non-null   object        \n",
      " 11  tenure                               3792 non-null   float64       \n",
      "dtypes: datetime64[ns](1), float64(2), object(9)\n",
      "memory usage: 251.8+ KB\n"
     ]
    }
   ],
   "source": [
    "KPMG_CD.drop('default', axis = 'columns', inplace = True)\n",
    "KPMG_CD.dropna(inplace = True)\n",
    "KPMG_CD.info()"
   ]
  },
  {
   "cell_type": "markdown",
   "id": "f5a11522",
   "metadata": {},
   "source": [
    "Major data quality issues in the Customer Demographic dataset:\n",
    "\n",
    "1. Missing Values: The dataset had 506  (12.65%) missing values in job_title and 656 (16.4%) missing values in job_industry_category columns. It also had 125 (3.125%) customers whose last names were not documented and another 87 (2.175%) had both missing date of births and tenure values.\n",
    "\n",
    "2. Accuracy of columns: The columns gender and default had accuracy issues. In gender column, other categories outside of 'female' and 'male' were documented. These categories were: 'U', 'F', 'Femal', and 'M'. It can be assumed that the last three categories are input errors. However more clarity is needed on what gender 'U' is. In the default column, the values are completely incomprehensible.\n",
    "\n",
    "Mitigation:  Replaced the missing values in job_title and  job_industry_category  with 'N/A' (Not Available) to reduce the number of missing values from 1370 to 415. Replaced misspelt categories ensure consistency.\n",
    "\n",
    "Recommendation: Enforce a drop-down list for the user entering the data rather than a free text field to increase column accuracy. "
   ]
  },
  {
   "cell_type": "markdown",
   "id": "4ff022fd",
   "metadata": {},
   "source": [
    "# Checking for quality in the Customer Address dataset"
   ]
  },
  {
   "cell_type": "code",
   "execution_count": 53,
   "id": "289071ee",
   "metadata": {},
   "outputs": [
    {
     "data": {
      "text/html": [
       "<div>\n",
       "<style scoped>\n",
       "    .dataframe tbody tr th:only-of-type {\n",
       "        vertical-align: middle;\n",
       "    }\n",
       "\n",
       "    .dataframe tbody tr th {\n",
       "        vertical-align: top;\n",
       "    }\n",
       "\n",
       "    .dataframe thead th {\n",
       "        text-align: right;\n",
       "    }\n",
       "</style>\n",
       "<table border=\"1\" class=\"dataframe\">\n",
       "  <thead>\n",
       "    <tr style=\"text-align: right;\">\n",
       "      <th></th>\n",
       "      <th>customer_id</th>\n",
       "      <th>address</th>\n",
       "      <th>postcode</th>\n",
       "      <th>state</th>\n",
       "      <th>country</th>\n",
       "      <th>property_valuation</th>\n",
       "    </tr>\n",
       "  </thead>\n",
       "  <tbody>\n",
       "    <tr>\n",
       "      <th>1</th>\n",
       "      <td>1</td>\n",
       "      <td>060 Morning Avenue</td>\n",
       "      <td>2016</td>\n",
       "      <td>New South Wales</td>\n",
       "      <td>Australia</td>\n",
       "      <td>10</td>\n",
       "    </tr>\n",
       "    <tr>\n",
       "      <th>2</th>\n",
       "      <td>2</td>\n",
       "      <td>6 Meadow Vale Court</td>\n",
       "      <td>2153</td>\n",
       "      <td>New South Wales</td>\n",
       "      <td>Australia</td>\n",
       "      <td>10</td>\n",
       "    </tr>\n",
       "    <tr>\n",
       "      <th>3</th>\n",
       "      <td>4</td>\n",
       "      <td>0 Holy Cross Court</td>\n",
       "      <td>4211</td>\n",
       "      <td>QLD</td>\n",
       "      <td>Australia</td>\n",
       "      <td>9</td>\n",
       "    </tr>\n",
       "    <tr>\n",
       "      <th>4</th>\n",
       "      <td>5</td>\n",
       "      <td>17979 Del Mar Point</td>\n",
       "      <td>2448</td>\n",
       "      <td>New South Wales</td>\n",
       "      <td>Australia</td>\n",
       "      <td>4</td>\n",
       "    </tr>\n",
       "    <tr>\n",
       "      <th>5</th>\n",
       "      <td>6</td>\n",
       "      <td>9 Oakridge Court</td>\n",
       "      <td>3216</td>\n",
       "      <td>VIC</td>\n",
       "      <td>Australia</td>\n",
       "      <td>9</td>\n",
       "    </tr>\n",
       "  </tbody>\n",
       "</table>\n",
       "</div>"
      ],
      "text/plain": [
       "0 customer_id              address postcode            state    country  \\\n",
       "1           1   060 Morning Avenue     2016  New South Wales  Australia   \n",
       "2           2  6 Meadow Vale Court     2153  New South Wales  Australia   \n",
       "3           4   0 Holy Cross Court     4211              QLD  Australia   \n",
       "4           5  17979 Del Mar Point     2448  New South Wales  Australia   \n",
       "5           6     9 Oakridge Court     3216              VIC  Australia   \n",
       "\n",
       "0 property_valuation  \n",
       "1                 10  \n",
       "2                 10  \n",
       "3                  9  \n",
       "4                  4  \n",
       "5                  9  "
      ]
     },
     "execution_count": 53,
     "metadata": {},
     "output_type": "execute_result"
    }
   ],
   "source": [
    "#viewing the dataset\n",
    "KPMG_CA.head()"
   ]
  },
  {
   "cell_type": "code",
   "execution_count": 54,
   "id": "15a5d9c7",
   "metadata": {},
   "outputs": [
    {
     "name": "stdout",
     "output_type": "stream",
     "text": [
      "<class 'pandas.core.frame.DataFrame'>\n",
      "RangeIndex: 3999 entries, 1 to 3999\n",
      "Data columns (total 6 columns):\n",
      " #   Column              Non-Null Count  Dtype \n",
      "---  ------              --------------  ----- \n",
      " 0   customer_id         3999 non-null   object\n",
      " 1   address             3999 non-null   object\n",
      " 2   postcode            3999 non-null   object\n",
      " 3   state               3999 non-null   object\n",
      " 4   country             3999 non-null   object\n",
      " 5   property_valuation  3999 non-null   object\n",
      "dtypes: object(6)\n",
      "memory usage: 93.8+ KB\n"
     ]
    }
   ],
   "source": [
    "#checking the details of the dataset\n",
    "KPMG_CA.info()"
   ]
  },
  {
   "cell_type": "markdown",
   "id": "68466fa0",
   "metadata": {},
   "source": [
    "The dataset has no missing values"
   ]
  },
  {
   "cell_type": "code",
   "execution_count": 55,
   "id": "8b649b75",
   "metadata": {},
   "outputs": [
    {
     "name": "stdout",
     "output_type": "stream",
     "text": [
      "<class 'pandas.core.frame.DataFrame'>\n",
      "RangeIndex: 3999 entries, 1 to 3999\n",
      "Data columns (total 6 columns):\n",
      " #   Column              Non-Null Count  Dtype \n",
      "---  ------              --------------  ----- \n",
      " 0   customer_id         3999 non-null   object\n",
      " 1   address             3999 non-null   object\n",
      " 2   postcode            3999 non-null   object\n",
      " 3   state               3999 non-null   object\n",
      " 4   country             3999 non-null   object\n",
      " 5   property_valuation  3999 non-null   int32 \n",
      "dtypes: int32(1), object(5)\n",
      "memory usage: 93.8+ KB\n"
     ]
    }
   ],
   "source": [
    "#recasting the columns in the appropriate datatype\n",
    "KPMG_CA['property_valuation'] = KPMG_CA['property_valuation'].astype('int')\n",
    "KPMG_CA.info()"
   ]
  },
  {
   "cell_type": "code",
   "execution_count": 56,
   "id": "83cb302a",
   "metadata": {},
   "outputs": [
    {
     "data": {
      "text/plain": [
       "0"
      ]
     },
     "execution_count": 56,
     "metadata": {},
     "output_type": "execute_result"
    }
   ],
   "source": [
    "#checking for duplicates in the dataset\n",
    "len(KPMG_CA[KPMG_CA.duplicated()])"
   ]
  },
  {
   "cell_type": "markdown",
   "id": "509f10aa",
   "metadata": {},
   "source": [
    "No duplicate was found in the dataset."
   ]
  },
  {
   "cell_type": "markdown",
   "id": "b8854e63",
   "metadata": {},
   "source": [
    "## Checking for accuracy in each column"
   ]
  },
  {
   "cell_type": "code",
   "execution_count": 57,
   "id": "8489109c",
   "metadata": {},
   "outputs": [
    {
     "data": {
      "text/plain": [
       "NSW                2054\n",
       "VIC                 939\n",
       "QLD                 838\n",
       "New South Wales      86\n",
       "Victoria             82\n",
       "Name: state, dtype: int64"
      ]
     },
     "execution_count": 57,
     "metadata": {},
     "output_type": "execute_result"
    }
   ],
   "source": [
    "KPMG_CA['state'].value_counts()"
   ]
  },
  {
   "cell_type": "code",
   "execution_count": 58,
   "id": "927adaf9",
   "metadata": {},
   "outputs": [
    {
     "data": {
      "text/plain": [
       "Australia    3999\n",
       "Name: country, dtype: int64"
      ]
     },
     "execution_count": 58,
     "metadata": {},
     "output_type": "execute_result"
    }
   ],
   "source": [
    "KPMG_CA['country'].value_counts()"
   ]
  },
  {
   "cell_type": "markdown",
   "id": "c291afb7",
   "metadata": {},
   "source": [
    "The customer address dataset had no data quality issues.\n",
    "\n",
    "The dataset had no missing values and all columns passed the accuracy check."
   ]
  },
  {
   "cell_type": "markdown",
   "id": "ebdac289",
   "metadata": {},
   "source": [
    "## Using sql to check for data quality in transactions, customer demographic and customer address datasets "
   ]
  },
  {
   "cell_type": "markdown",
   "id": "9a91331e",
   "metadata": {},
   "source": [
    "Four datasets were provided namely:\n",
    "1. Transactions\n",
    "2. New Customer List\n",
    "3. Customer Demographic\n",
    "4. Customer Address\n",
    "\n",
    "The transactions, customer demographic and customer address datasets all contain information of customers that aren't new and therefore all have customer ids.\n",
    "The remainder of this notebook contains the sql code implemented to check the quality in all three datasets."
   ]
  },
  {
   "cell_type": "code",
   "execution_count": 59,
   "id": "d94e2120",
   "metadata": {},
   "outputs": [],
   "source": [
    "#creating and connecting KPMGdata database\n",
    "database_connection = sql.connect('c:KPMGdata.db')"
   ]
  },
  {
   "cell_type": "code",
   "execution_count": 60,
   "id": "ac286f31",
   "metadata": {},
   "outputs": [],
   "source": [
    "#creating a cursor \n",
    "c = database_connection.cursor()"
   ]
  },
  {
   "cell_type": "code",
   "execution_count": 61,
   "id": "20edf108",
   "metadata": {},
   "outputs": [
    {
     "data": {
      "text/plain": [
       "<sqlite3.Cursor at 0x111b6ba0>"
      ]
     },
     "execution_count": 61,
     "metadata": {},
     "output_type": "execute_result"
    }
   ],
   "source": [
    "# creating the Transactions table in the database\n",
    "c.execute(\n",
    "    '''\n",
    "            CREATE TABLE transactions (\n",
    "                transaction_id INTEGER,\n",
    "                product_id INTEGER,\n",
    "                customer_id INTEGER,\n",
    "                transaction_date TEXT,\n",
    "                online_order TEXT,\n",
    "                order_status TEXT,\n",
    "                brand TEXT,\n",
    "                product_line TEXT,\n",
    "                product_class TEXT,\n",
    "                product_size TEXT,\n",
    "                list_price REAL,\n",
    "                standard_cost REAL,\n",
    "                product_first_sold_date TEXT,\n",
    "                PRIMARY KEY (transaction_id),\n",
    "                FOREIGN KEY (customer_id) REFERENCES customerdemographic (customer_id),\n",
    "                FOREIGN KEY (customer_id) REFERENCES customeraddress (customer_id)            \n",
    "                );\n",
    "     ''')"
   ]
  },
  {
   "cell_type": "code",
   "execution_count": 62,
   "id": "295bfd3b",
   "metadata": {},
   "outputs": [
    {
     "data": {
      "text/plain": [
       "<sqlite3.Cursor at 0x111b6ba0>"
      ]
     },
     "execution_count": 62,
     "metadata": {},
     "output_type": "execute_result"
    }
   ],
   "source": [
    "# creating the customerdemographic table in the database\n",
    "c.execute(\n",
    "    '''\n",
    "    CREATE TABLE customerdemographic (\n",
    "                customer_id INTEGER,\n",
    "                first_name TEXT,\n",
    "                last_name TEXT,\n",
    "                gender TEXT,\n",
    "                past_3_years_bike_related_purchases REAL,\n",
    "                DOB TEXT,\n",
    "                job_title TEXT,\n",
    "                job_industry_category TEXT,\n",
    "                wealth_segment TEXT,\n",
    "                deceased_indicator TEXT,\n",
    "                owns_car TEXT,\n",
    "                tenure INTEGER,\n",
    "                PRIMARY KEY(customer_id),\n",
    "                FOREIGN KEY(customer_id) REFERENCES transactions(customer_id),\n",
    "                FOREIGN KEY(customer_id) REFERENCES customeraddress(customer_id)\n",
    "                );\n",
    "    '''\n",
    ")"
   ]
  },
  {
   "cell_type": "code",
   "execution_count": 63,
   "id": "4aac03f4",
   "metadata": {},
   "outputs": [
    {
     "data": {
      "text/plain": [
       "<sqlite3.Cursor at 0x111b6ba0>"
      ]
     },
     "execution_count": 63,
     "metadata": {},
     "output_type": "execute_result"
    }
   ],
   "source": [
    "#creating the customeraddress table in the database\n",
    "c.execute(\n",
    "    '''\n",
    "            CREATE TABLE customeraddress (\n",
    "                customer_id INTEGER,\n",
    "                address TEXT,\n",
    "                postcode INTEGER,\n",
    "                state TEXT,\n",
    "                country TEXT,\n",
    "                property_valuation INTEGER,\n",
    "                PRIMARY KEY (customer_id),\n",
    "                FOREIGN KEY (customer_id) REFERENCES transactions (customer_id),\n",
    "                FOREIGN KEY (customer_id) REFERENCES customerdemographic (customer_id)            \n",
    "                );\n",
    "     ''')"
   ]
  },
  {
   "cell_type": "code",
   "execution_count": 64,
   "id": "dcf4aa4d",
   "metadata": {},
   "outputs": [
    {
     "data": {
      "text/plain": [
       "3999"
      ]
     },
     "execution_count": 64,
     "metadata": {},
     "output_type": "execute_result"
    }
   ],
   "source": [
    "#filling the table with information from the datasets\n",
    "KPMG_TSC.to_sql('transactions', database_connection, if_exists = 'append', index = False)\n",
    "KPMG_CD.to_sql('customerdemographic', database_connection, if_exists = 'append', index = False)\n",
    "KPMG_CA.to_sql('customeraddress', database_connection, if_exists = 'append', index = False)"
   ]
  },
  {
   "cell_type": "code",
   "execution_count": 65,
   "id": "3edd4464",
   "metadata": {},
   "outputs": [
    {
     "data": {
      "text/html": [
       "<div>\n",
       "<style scoped>\n",
       "    .dataframe tbody tr th:only-of-type {\n",
       "        vertical-align: middle;\n",
       "    }\n",
       "\n",
       "    .dataframe tbody tr th {\n",
       "        vertical-align: top;\n",
       "    }\n",
       "\n",
       "    .dataframe thead th {\n",
       "        text-align: right;\n",
       "    }\n",
       "</style>\n",
       "<table border=\"1\" class=\"dataframe\">\n",
       "  <thead>\n",
       "    <tr style=\"text-align: right;\">\n",
       "      <th></th>\n",
       "      <th>transaction_id</th>\n",
       "      <th>product_id</th>\n",
       "      <th>customer_id</th>\n",
       "      <th>transaction_date</th>\n",
       "      <th>online_order</th>\n",
       "      <th>order_status</th>\n",
       "      <th>brand</th>\n",
       "      <th>product_line</th>\n",
       "      <th>product_class</th>\n",
       "      <th>product_size</th>\n",
       "      <th>list_price</th>\n",
       "      <th>standard_cost</th>\n",
       "      <th>product_first_sold_date</th>\n",
       "    </tr>\n",
       "  </thead>\n",
       "  <tbody>\n",
       "    <tr>\n",
       "      <th>0</th>\n",
       "      <td>1</td>\n",
       "      <td>2</td>\n",
       "      <td>2950</td>\n",
       "      <td>2017-02-25 00:00:00</td>\n",
       "      <td>0</td>\n",
       "      <td>Approved</td>\n",
       "      <td>Solex</td>\n",
       "      <td>Standard</td>\n",
       "      <td>medium</td>\n",
       "      <td>medium</td>\n",
       "      <td>71.49</td>\n",
       "      <td>53.62</td>\n",
       "      <td>2012-12-02 00:00:00</td>\n",
       "    </tr>\n",
       "    <tr>\n",
       "      <th>1</th>\n",
       "      <td>2</td>\n",
       "      <td>3</td>\n",
       "      <td>3120</td>\n",
       "      <td>2017-05-21 00:00:00</td>\n",
       "      <td>1</td>\n",
       "      <td>Approved</td>\n",
       "      <td>Trek Bicycles</td>\n",
       "      <td>Standard</td>\n",
       "      <td>medium</td>\n",
       "      <td>large</td>\n",
       "      <td>2091.47</td>\n",
       "      <td>388.92</td>\n",
       "      <td>2014-03-03 00:00:00</td>\n",
       "    </tr>\n",
       "    <tr>\n",
       "      <th>2</th>\n",
       "      <td>3</td>\n",
       "      <td>37</td>\n",
       "      <td>402</td>\n",
       "      <td>2017-10-16 00:00:00</td>\n",
       "      <td>0</td>\n",
       "      <td>Approved</td>\n",
       "      <td>OHM Cycles</td>\n",
       "      <td>Standard</td>\n",
       "      <td>low</td>\n",
       "      <td>medium</td>\n",
       "      <td>1793.43</td>\n",
       "      <td>248.82</td>\n",
       "      <td>1999-07-20 00:00:00</td>\n",
       "    </tr>\n",
       "    <tr>\n",
       "      <th>3</th>\n",
       "      <td>4</td>\n",
       "      <td>88</td>\n",
       "      <td>3135</td>\n",
       "      <td>2017-08-31 00:00:00</td>\n",
       "      <td>0</td>\n",
       "      <td>Approved</td>\n",
       "      <td>Norco Bicycles</td>\n",
       "      <td>Standard</td>\n",
       "      <td>medium</td>\n",
       "      <td>medium</td>\n",
       "      <td>1198.46</td>\n",
       "      <td>381.10</td>\n",
       "      <td>1998-12-16 00:00:00</td>\n",
       "    </tr>\n",
       "    <tr>\n",
       "      <th>4</th>\n",
       "      <td>5</td>\n",
       "      <td>78</td>\n",
       "      <td>787</td>\n",
       "      <td>2017-10-01 00:00:00</td>\n",
       "      <td>1</td>\n",
       "      <td>Approved</td>\n",
       "      <td>Giant Bicycles</td>\n",
       "      <td>Standard</td>\n",
       "      <td>medium</td>\n",
       "      <td>large</td>\n",
       "      <td>1765.30</td>\n",
       "      <td>709.48</td>\n",
       "      <td>2015-08-10 00:00:00</td>\n",
       "    </tr>\n",
       "  </tbody>\n",
       "</table>\n",
       "</div>"
      ],
      "text/plain": [
       "   transaction_id  product_id  customer_id     transaction_date online_order  \\\n",
       "0               1           2         2950  2017-02-25 00:00:00            0   \n",
       "1               2           3         3120  2017-05-21 00:00:00            1   \n",
       "2               3          37          402  2017-10-16 00:00:00            0   \n",
       "3               4          88         3135  2017-08-31 00:00:00            0   \n",
       "4               5          78          787  2017-10-01 00:00:00            1   \n",
       "\n",
       "  order_status           brand product_line product_class product_size  \\\n",
       "0     Approved           Solex     Standard        medium       medium   \n",
       "1     Approved   Trek Bicycles     Standard        medium        large   \n",
       "2     Approved      OHM Cycles     Standard           low       medium   \n",
       "3     Approved  Norco Bicycles     Standard        medium       medium   \n",
       "4     Approved  Giant Bicycles     Standard        medium        large   \n",
       "\n",
       "   list_price  standard_cost product_first_sold_date  \n",
       "0       71.49          53.62     2012-12-02 00:00:00  \n",
       "1     2091.47         388.92     2014-03-03 00:00:00  \n",
       "2     1793.43         248.82     1999-07-20 00:00:00  \n",
       "3     1198.46         381.10     1998-12-16 00:00:00  \n",
       "4     1765.30         709.48     2015-08-10 00:00:00  "
      ]
     },
     "execution_count": 65,
     "metadata": {},
     "output_type": "execute_result"
    }
   ],
   "source": [
    "#reading the first five rows of the transactions table\n",
    "pd.read_sql('''\n",
    "            SELECT * \n",
    "            FROM transactions \n",
    "            LIMIT 5\n",
    "            ''', database_connection)"
   ]
  },
  {
   "cell_type": "code",
   "execution_count": 66,
   "id": "d806b4e2",
   "metadata": {},
   "outputs": [
    {
     "data": {
      "text/html": [
       "<div>\n",
       "<style scoped>\n",
       "    .dataframe tbody tr th:only-of-type {\n",
       "        vertical-align: middle;\n",
       "    }\n",
       "\n",
       "    .dataframe tbody tr th {\n",
       "        vertical-align: top;\n",
       "    }\n",
       "\n",
       "    .dataframe thead th {\n",
       "        text-align: right;\n",
       "    }\n",
       "</style>\n",
       "<table border=\"1\" class=\"dataframe\">\n",
       "  <thead>\n",
       "    <tr style=\"text-align: right;\">\n",
       "      <th></th>\n",
       "      <th>customer_id</th>\n",
       "      <th>first_name</th>\n",
       "      <th>last_name</th>\n",
       "      <th>address</th>\n",
       "    </tr>\n",
       "  </thead>\n",
       "  <tbody>\n",
       "    <tr>\n",
       "      <th>0</th>\n",
       "      <td>2426</td>\n",
       "      <td>None</td>\n",
       "      <td>None</td>\n",
       "      <td>4 Becker Center</td>\n",
       "    </tr>\n",
       "    <tr>\n",
       "      <th>1</th>\n",
       "      <td>3053</td>\n",
       "      <td>None</td>\n",
       "      <td>None</td>\n",
       "      <td>274 Ludington Trail</td>\n",
       "    </tr>\n",
       "    <tr>\n",
       "      <th>2</th>\n",
       "      <td>475</td>\n",
       "      <td>None</td>\n",
       "      <td>None</td>\n",
       "      <td>781 Dorton Avenue</td>\n",
       "    </tr>\n",
       "    <tr>\n",
       "      <th>3</th>\n",
       "      <td>857</td>\n",
       "      <td>None</td>\n",
       "      <td>None</td>\n",
       "      <td>18 Parkside Plaza</td>\n",
       "    </tr>\n",
       "    <tr>\n",
       "      <th>4</th>\n",
       "      <td>3473</td>\n",
       "      <td>None</td>\n",
       "      <td>None</td>\n",
       "      <td>7279 Steensland Circle</td>\n",
       "    </tr>\n",
       "    <tr>\n",
       "      <th>...</th>\n",
       "      <td>...</td>\n",
       "      <td>...</td>\n",
       "      <td>...</td>\n",
       "      <td>...</td>\n",
       "    </tr>\n",
       "    <tr>\n",
       "      <th>185</th>\n",
       "      <td>703</td>\n",
       "      <td>None</td>\n",
       "      <td>None</td>\n",
       "      <td>4 Lillian Plaza</td>\n",
       "    </tr>\n",
       "    <tr>\n",
       "      <th>186</th>\n",
       "      <td>3322</td>\n",
       "      <td>None</td>\n",
       "      <td>None</td>\n",
       "      <td>624 Harper Way</td>\n",
       "    </tr>\n",
       "    <tr>\n",
       "      <th>187</th>\n",
       "      <td>4</td>\n",
       "      <td>None</td>\n",
       "      <td>None</td>\n",
       "      <td>0 Holy Cross Court</td>\n",
       "    </tr>\n",
       "    <tr>\n",
       "      <th>188</th>\n",
       "      <td>2021</td>\n",
       "      <td>None</td>\n",
       "      <td>None</td>\n",
       "      <td>218 Elka Point</td>\n",
       "    </tr>\n",
       "    <tr>\n",
       "      <th>189</th>\n",
       "      <td>1202</td>\n",
       "      <td>None</td>\n",
       "      <td>None</td>\n",
       "      <td>0 Kedzie Junction</td>\n",
       "    </tr>\n",
       "  </tbody>\n",
       "</table>\n",
       "<p>190 rows × 4 columns</p>\n",
       "</div>"
      ],
      "text/plain": [
       "     customer_id first_name last_name                 address\n",
       "0           2426       None      None         4 Becker Center\n",
       "1           3053       None      None     274 Ludington Trail\n",
       "2            475       None      None       781 Dorton Avenue\n",
       "3            857       None      None       18 Parkside Plaza\n",
       "4           3473       None      None  7279 Steensland Circle\n",
       "..           ...        ...       ...                     ...\n",
       "185          703       None      None         4 Lillian Plaza\n",
       "186         3322       None      None          624 Harper Way\n",
       "187            4       None      None      0 Holy Cross Court\n",
       "188         2021       None      None          218 Elka Point\n",
       "189         1202       None      None       0 Kedzie Junction\n",
       "\n",
       "[190 rows x 4 columns]"
      ]
     },
     "execution_count": 66,
     "metadata": {},
     "output_type": "execute_result"
    }
   ],
   "source": [
    "#checking for customers who have performed trasactions but have no customer demographic or customer address column.\n",
    "pd.read_sql(\n",
    "    '''\n",
    "    SELECT DISTINCT t.customer_id, cd.first_name, cd.last_name, ca.address\n",
    "    FROM transactions AS t\n",
    "    LEFT JOIN customerdemographic AS cd\n",
    "    ON t.customer_id = cd.customer_id\n",
    "    LEFT JOIN customeraddress AS ca\n",
    "    ON t.customer_id = ca.customer_id\n",
    "    WHERE ca.address IS NULL OR cd.first_name IS NULL\n",
    "''', database_connection\n",
    ")"
   ]
  },
  {
   "cell_type": "markdown",
   "id": "89a51d20",
   "metadata": {},
   "source": [
    "Five customers have performed transactions but have no customer address attached to their customer id, however, one of this five customers also has no customer demographic record present."
   ]
  },
  {
   "cell_type": "code",
   "execution_count": 67,
   "id": "d927f727",
   "metadata": {},
   "outputs": [
    {
     "data": {
      "text/html": [
       "<div>\n",
       "<style scoped>\n",
       "    .dataframe tbody tr th:only-of-type {\n",
       "        vertical-align: middle;\n",
       "    }\n",
       "\n",
       "    .dataframe tbody tr th {\n",
       "        vertical-align: top;\n",
       "    }\n",
       "\n",
       "    .dataframe thead th {\n",
       "        text-align: right;\n",
       "    }\n",
       "</style>\n",
       "<table border=\"1\" class=\"dataframe\">\n",
       "  <thead>\n",
       "    <tr style=\"text-align: right;\">\n",
       "      <th></th>\n",
       "      <th>customer_id</th>\n",
       "      <th>first_name</th>\n",
       "      <th>last_name</th>\n",
       "      <th>address</th>\n",
       "      <th>transaction_date</th>\n",
       "      <th>brand</th>\n",
       "      <th>standard_cost</th>\n",
       "    </tr>\n",
       "  </thead>\n",
       "  <tbody>\n",
       "    <tr>\n",
       "      <th>0</th>\n",
       "      <td>2426</td>\n",
       "      <td>None</td>\n",
       "      <td>None</td>\n",
       "      <td>4 Becker Center</td>\n",
       "      <td>2017-04-03 00:00:00</td>\n",
       "      <td>Norco Bicycles</td>\n",
       "      <td>818.01</td>\n",
       "    </tr>\n",
       "    <tr>\n",
       "      <th>1</th>\n",
       "      <td>3053</td>\n",
       "      <td>None</td>\n",
       "      <td>None</td>\n",
       "      <td>274 Ludington Trail</td>\n",
       "      <td>2017-06-20 00:00:00</td>\n",
       "      <td>Solex</td>\n",
       "      <td>589.27</td>\n",
       "    </tr>\n",
       "    <tr>\n",
       "      <th>2</th>\n",
       "      <td>475</td>\n",
       "      <td>None</td>\n",
       "      <td>None</td>\n",
       "      <td>781 Dorton Avenue</td>\n",
       "      <td>2017-05-07 00:00:00</td>\n",
       "      <td>Trek Bicycles</td>\n",
       "      <td>154.40</td>\n",
       "    </tr>\n",
       "    <tr>\n",
       "      <th>3</th>\n",
       "      <td>857</td>\n",
       "      <td>None</td>\n",
       "      <td>None</td>\n",
       "      <td>18 Parkside Plaza</td>\n",
       "      <td>2017-11-27 00:00:00</td>\n",
       "      <td>Giant Bicycles</td>\n",
       "      <td>993.66</td>\n",
       "    </tr>\n",
       "    <tr>\n",
       "      <th>4</th>\n",
       "      <td>3473</td>\n",
       "      <td>None</td>\n",
       "      <td>None</td>\n",
       "      <td>7279 Steensland Circle</td>\n",
       "      <td>2017-12-18 00:00:00</td>\n",
       "      <td>Giant Bicycles</td>\n",
       "      <td>1759.85</td>\n",
       "    </tr>\n",
       "    <tr>\n",
       "      <th>...</th>\n",
       "      <td>...</td>\n",
       "      <td>...</td>\n",
       "      <td>...</td>\n",
       "      <td>...</td>\n",
       "      <td>...</td>\n",
       "      <td>...</td>\n",
       "      <td>...</td>\n",
       "    </tr>\n",
       "    <tr>\n",
       "      <th>1064</th>\n",
       "      <td>2073</td>\n",
       "      <td>None</td>\n",
       "      <td>None</td>\n",
       "      <td>9499 Alpine Drive</td>\n",
       "      <td>2017-02-21 00:00:00</td>\n",
       "      <td>WeareA2B</td>\n",
       "      <td>513.85</td>\n",
       "    </tr>\n",
       "    <tr>\n",
       "      <th>1065</th>\n",
       "      <td>657</td>\n",
       "      <td>None</td>\n",
       "      <td>None</td>\n",
       "      <td>9912 Eagle Crest Lane</td>\n",
       "      <td>2017-03-01 00:00:00</td>\n",
       "      <td>Giant Bicycles</td>\n",
       "      <td>173.18</td>\n",
       "    </tr>\n",
       "    <tr>\n",
       "      <th>1066</th>\n",
       "      <td>3401</td>\n",
       "      <td>None</td>\n",
       "      <td>None</td>\n",
       "      <td>6851 Orin Parkway</td>\n",
       "      <td>2017-10-18 00:00:00</td>\n",
       "      <td>Trek Bicycles</td>\n",
       "      <td>459.71</td>\n",
       "    </tr>\n",
       "    <tr>\n",
       "      <th>1067</th>\n",
       "      <td>275</td>\n",
       "      <td>None</td>\n",
       "      <td>None</td>\n",
       "      <td>07158 Roth Pass</td>\n",
       "      <td>2017-07-02 00:00:00</td>\n",
       "      <td>Trek Bicycles</td>\n",
       "      <td>596.55</td>\n",
       "    </tr>\n",
       "    <tr>\n",
       "      <th>1068</th>\n",
       "      <td>2918</td>\n",
       "      <td>None</td>\n",
       "      <td>None</td>\n",
       "      <td>66 Arrowood Court</td>\n",
       "      <td>2017-11-09 00:00:00</td>\n",
       "      <td>Solex</td>\n",
       "      <td>507.58</td>\n",
       "    </tr>\n",
       "  </tbody>\n",
       "</table>\n",
       "<p>1069 rows × 7 columns</p>\n",
       "</div>"
      ],
      "text/plain": [
       "      customer_id first_name last_name                 address  \\\n",
       "0            2426       None      None         4 Becker Center   \n",
       "1            3053       None      None     274 Ludington Trail   \n",
       "2             475       None      None       781 Dorton Avenue   \n",
       "3             857       None      None       18 Parkside Plaza   \n",
       "4            3473       None      None  7279 Steensland Circle   \n",
       "...           ...        ...       ...                     ...   \n",
       "1064         2073       None      None       9499 Alpine Drive   \n",
       "1065          657       None      None   9912 Eagle Crest Lane   \n",
       "1066         3401       None      None       6851 Orin Parkway   \n",
       "1067          275       None      None         07158 Roth Pass   \n",
       "1068         2918       None      None       66 Arrowood Court   \n",
       "\n",
       "         transaction_date           brand  standard_cost  \n",
       "0     2017-04-03 00:00:00  Norco Bicycles         818.01  \n",
       "1     2017-06-20 00:00:00           Solex         589.27  \n",
       "2     2017-05-07 00:00:00   Trek Bicycles         154.40  \n",
       "3     2017-11-27 00:00:00  Giant Bicycles         993.66  \n",
       "4     2017-12-18 00:00:00  Giant Bicycles        1759.85  \n",
       "...                   ...             ...            ...  \n",
       "1064  2017-02-21 00:00:00        WeareA2B         513.85  \n",
       "1065  2017-03-01 00:00:00  Giant Bicycles         173.18  \n",
       "1066  2017-10-18 00:00:00   Trek Bicycles         459.71  \n",
       "1067  2017-07-02 00:00:00   Trek Bicycles         596.55  \n",
       "1068  2017-11-09 00:00:00           Solex         507.58  \n",
       "\n",
       "[1069 rows x 7 columns]"
      ]
     },
     "execution_count": 67,
     "metadata": {},
     "output_type": "execute_result"
    }
   ],
   "source": [
    "#Checking for transactions details of customers with no demographic or address record\n",
    "customer_idTSC = pd.read_sql(\n",
    "    '''\n",
    "    SELECT DISTINCT t.customer_id, cd.first_name, cd.last_name, ca.address, t.transaction_date, t.brand, t.standard_cost\n",
    "    FROM transactions AS t\n",
    "    LEFT JOIN customerdemographic AS cd\n",
    "    ON t.customer_id = cd.customer_id\n",
    "    LEFT JOIN customeraddress AS ca\n",
    "    ON t.customer_id = ca.customer_id\n",
    "    WHERE ca.address IS NULL OR cd.first_name IS NULL\n",
    "''', database_connection\n",
    ")\n",
    "customer_idTSC"
   ]
  },
  {
   "cell_type": "code",
   "execution_count": null,
   "id": "b4ff7ee4",
   "metadata": {},
   "outputs": [],
   "source": [
    "#saving the four cleaned datasets as excel sheets in the same workbook\n",
    "writer = ExcelWriter('c:KPMG clean data.xlsx')\n",
    "KPMG_TSC.to_excel (writer,'Transactions', index = False)\n",
    "KPMG_NCL.to_excel (writer,'NewCustomerList', index = False)\n",
    "KPMG_CD.to_excel (writer, 'CustomerDemographic', index = False)\n",
    "KPMG_CA.to_excel (writer, 'CustomerAddress', index = False)\n",
    "writer.save()"
   ]
  },
  {
   "cell_type": "code",
   "execution_count": null,
   "id": "94b8be44",
   "metadata": {},
   "outputs": [],
   "source": [
    "#saving the dataset with customer id outliers\n",
    "customer_idTSC.to_excel('c:customer_idTSC.xlsx', index = False)"
   ]
  },
  {
   "cell_type": "markdown",
   "id": "ced65e18",
   "metadata": {},
   "source": [
    "All data quality concerns were highlighted and recommendations were forwarded to the client via email."
   ]
  }
 ],
 "metadata": {
  "kernelspec": {
   "display_name": "Python 3 (ipykernel)",
   "language": "python",
   "name": "python3"
  },
  "language_info": {
   "codemirror_mode": {
    "name": "ipython",
    "version": 3
   },
   "file_extension": ".py",
   "mimetype": "text/x-python",
   "name": "python",
   "nbconvert_exporter": "python",
   "pygments_lexer": "ipython3",
   "version": "3.9.12"
  }
 },
 "nbformat": 4,
 "nbformat_minor": 5
}
